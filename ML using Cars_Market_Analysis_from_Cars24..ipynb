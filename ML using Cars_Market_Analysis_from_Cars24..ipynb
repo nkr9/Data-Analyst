{
  "metadata": {
    "kernelspec": {
      "language": "python",
      "display_name": "Python 3",
      "name": "python3"
    },
    "language_info": {
      "name": "python",
      "version": "3.10.12",
      "mimetype": "text/x-python",
      "codemirror_mode": {
        "name": "ipython",
        "version": 3
      },
      "pygments_lexer": "ipython3",
      "nbconvert_exporter": "python",
      "file_extension": ".py"
    },
    "kaggle": {
      "accelerator": "none",
      "dataSources": [
        {
          "sourceId": 10960914,
          "sourceType": "datasetVersion",
          "datasetId": 6819153
        }
      ],
      "dockerImageVersionId": 30918,
      "isInternetEnabled": true,
      "language": "python",
      "sourceType": "notebook",
      "isGpuEnabled": false
    },
    "colab": {
      "name": "Used Cars Market Analysis from Cars24|ML|86%",
      "provenance": [],
      "include_colab_link": true
    }
  },
  "nbformat_minor": 0,
  "nbformat": 4,
  "cells": [
    {
      "cell_type": "markdown",
      "metadata": {
        "id": "view-in-github",
        "colab_type": "text"
      },
      "source": [
        "<a href=\"https://colab.research.google.com/github/nkr9/Data-Analyst/blob/main/ML%20using%20Cars_Market_Analysis_from_Cars24..ipynb\" target=\"_parent\"><img src=\"https://colab.research.google.com/assets/colab-badge.svg\" alt=\"Open In Colab\"/></a>"
      ]
    },
    {
      "source": [
        "# IMPORTANT: RUN THIS CELL IN ORDER TO IMPORT YOUR KAGGLE DATA SOURCES,\n",
        "# THEN FEEL FREE TO DELETE THIS CELL.\n",
        "# NOTE: THIS NOTEBOOK ENVIRONMENT DIFFERS FROM KAGGLE'S PYTHON\n",
        "# ENVIRONMENT SO THERE MAY BE MISSING LIBRARIES USED BY YOUR\n",
        "# NOTEBOOK.\n",
        "import kagglehub\n",
        "amanrajput16_used_car_price_data_from_cars24_path = kagglehub.dataset_download('amanrajput16/used-car-price-data-from-cars24')\n",
        "\n",
        "print('Data source import complete.')\n"
      ],
      "metadata": {
        "id": "_83CMO2OZYRa"
      },
      "cell_type": "code",
      "outputs": [],
      "execution_count": null
    },
    {
      "cell_type": "code",
      "source": [
        "# This Python 3 environment comes with many helpful analytics libraries installed\n",
        "# It is defined by the kaggle/python Docker image: https://github.com/kaggle/docker-python\n",
        "# For example, here's several helpful packages to load\n",
        "\n",
        "import numpy as np # linear algebra\n",
        "import pandas as pd # data processing, CSV file I/O (e.g. pd.read_csv)\n",
        "import seaborn as sns\n",
        "import matplotlib.pyplot as plt\n",
        "import warnings\n",
        "warnings.filterwarnings('ignore')\n",
        "# Input data files are available in the read-only \"../input/\" directory\n",
        "# For example, running this (by clicking run or pressing Shift+Enter) will list all files under the input directory\n",
        "\n",
        "import os\n",
        "for dirname, _, filenames in os.walk('/kaggle/input'):\n",
        "    for filename in filenames:\n",
        "        print(os.path.join(dirname, filename))\n",
        "\n",
        "# You can write up to 20GB to the current directory (/kaggle/working/) that gets preserved as output when you create a version using \"Save & Run All\"\n",
        "# You can also write temporary files to /kaggle/temp/, but they won't be saved outside of the current session"
      ],
      "metadata": {
        "_uuid": "8f2839f25d086af736a60e9eeb907d3b93b6e0e5",
        "_cell_guid": "b1076dfc-b9ad-4769-8c92-a6c4dae69d19",
        "trusted": true,
        "execution": {
          "iopub.status.busy": "2025-03-21T03:13:42.743255Z",
          "iopub.execute_input": "2025-03-21T03:13:42.743798Z",
          "iopub.status.idle": "2025-03-21T03:13:43.738842Z",
          "shell.execute_reply.started": "2025-03-21T03:13:42.743733Z",
          "shell.execute_reply": "2025-03-21T03:13:43.73789Z"
        },
        "id": "TmI7BGKKZYRc"
      },
      "outputs": [],
      "execution_count": null
    },
    {
      "cell_type": "markdown",
      "source": [
        "## Title: Used Cars Market Analysis from Cars24 Data"
      ],
      "metadata": {
        "id": "ZsrYVOXBZYRd"
      }
    },
    {
      "cell_type": "markdown",
      "source": [
        "#### Description: Analyzing trends in the used car market using scraped data from Cars24. Insights include price distribution, popular brands, demand patterns, and factors affecting resale value."
      ],
      "metadata": {
        "id": "6FGBITF0ZYRf"
      }
    },
    {
      "cell_type": "markdown",
      "source": [
        "## Import dataset"
      ],
      "metadata": {
        "id": "SXnywp-OZYRf"
      }
    },
    {
      "cell_type": "code",
      "source": [
        "df = pd.read_csv('/kaggle/input/used-car-price-data-from-cars24/cars24data.csv')"
      ],
      "metadata": {
        "trusted": true,
        "execution": {
          "iopub.status.busy": "2025-03-21T03:14:01.082617Z",
          "iopub.execute_input": "2025-03-21T03:14:01.08322Z",
          "iopub.status.idle": "2025-03-21T03:14:01.114364Z",
          "shell.execute_reply.started": "2025-03-21T03:14:01.083186Z",
          "shell.execute_reply": "2025-03-21T03:14:01.113412Z"
        },
        "id": "aplzHKUNZYRf"
      },
      "outputs": [],
      "execution_count": null
    },
    {
      "cell_type": "code",
      "source": [
        "df.head()"
      ],
      "metadata": {
        "trusted": true,
        "execution": {
          "iopub.status.busy": "2025-03-21T03:14:04.720864Z",
          "iopub.execute_input": "2025-03-21T03:14:04.721226Z",
          "iopub.status.idle": "2025-03-21T03:14:04.757681Z",
          "shell.execute_reply.started": "2025-03-21T03:14:04.721198Z",
          "shell.execute_reply": "2025-03-21T03:14:04.756644Z"
        },
        "id": "-e2kbZ94ZYRf"
      },
      "outputs": [],
      "execution_count": null
    },
    {
      "cell_type": "code",
      "source": [
        "df.tail()"
      ],
      "metadata": {
        "trusted": true,
        "execution": {
          "iopub.status.busy": "2025-03-21T03:14:07.861729Z",
          "iopub.execute_input": "2025-03-21T03:14:07.862129Z",
          "iopub.status.idle": "2025-03-21T03:14:07.87422Z",
          "shell.execute_reply.started": "2025-03-21T03:14:07.862084Z",
          "shell.execute_reply": "2025-03-21T03:14:07.873252Z"
        },
        "id": "t8x_kH0oZYRg"
      },
      "outputs": [],
      "execution_count": null
    },
    {
      "cell_type": "code",
      "source": [
        "df.info()"
      ],
      "metadata": {
        "trusted": true,
        "execution": {
          "iopub.status.busy": "2025-03-21T03:14:11.62167Z",
          "iopub.execute_input": "2025-03-21T03:14:11.622035Z",
          "iopub.status.idle": "2025-03-21T03:14:11.675151Z",
          "shell.execute_reply.started": "2025-03-21T03:14:11.621979Z",
          "shell.execute_reply": "2025-03-21T03:14:11.674107Z"
        },
        "id": "hH3Yk-JXZYRg"
      },
      "outputs": [],
      "execution_count": null
    },
    {
      "cell_type": "code",
      "source": [
        "df.describe()"
      ],
      "metadata": {
        "trusted": true,
        "execution": {
          "iopub.status.busy": "2025-03-21T03:14:16.306701Z",
          "iopub.execute_input": "2025-03-21T03:14:16.307129Z",
          "iopub.status.idle": "2025-03-21T03:14:16.344703Z",
          "shell.execute_reply.started": "2025-03-21T03:14:16.307096Z",
          "shell.execute_reply": "2025-03-21T03:14:16.343496Z"
        },
        "id": "CpqZnJOLZYRg"
      },
      "outputs": [],
      "execution_count": null
    },
    {
      "cell_type": "code",
      "source": [
        "df.isnull().sum()"
      ],
      "metadata": {
        "trusted": true,
        "execution": {
          "iopub.status.busy": "2025-03-21T03:14:23.565042Z",
          "iopub.execute_input": "2025-03-21T03:14:23.565398Z",
          "iopub.status.idle": "2025-03-21T03:14:23.573272Z",
          "shell.execute_reply.started": "2025-03-21T03:14:23.565368Z",
          "shell.execute_reply": "2025-03-21T03:14:23.572287Z"
        },
        "id": "zb13Iau0ZYRh"
      },
      "outputs": [],
      "execution_count": null
    },
    {
      "cell_type": "code",
      "source": [
        "df.duplicated().sum()"
      ],
      "metadata": {
        "trusted": true,
        "execution": {
          "iopub.status.busy": "2025-03-21T03:14:33.068164Z",
          "iopub.execute_input": "2025-03-21T03:14:33.068484Z",
          "iopub.status.idle": "2025-03-21T03:14:33.077941Z",
          "shell.execute_reply.started": "2025-03-21T03:14:33.068461Z",
          "shell.execute_reply": "2025-03-21T03:14:33.076867Z"
        },
        "id": "vmav5rEfZYRh"
      },
      "outputs": [],
      "execution_count": null
    },
    {
      "cell_type": "code",
      "source": [
        "df.dtypes"
      ],
      "metadata": {
        "trusted": true,
        "execution": {
          "iopub.status.busy": "2025-03-21T03:14:37.051957Z",
          "iopub.execute_input": "2025-03-21T03:14:37.052348Z",
          "iopub.status.idle": "2025-03-21T03:14:37.059436Z",
          "shell.execute_reply.started": "2025-03-21T03:14:37.05232Z",
          "shell.execute_reply": "2025-03-21T03:14:37.058501Z"
        },
        "id": "FQRliMFnZYRh"
      },
      "outputs": [],
      "execution_count": null
    },
    {
      "cell_type": "code",
      "source": [
        "df.corr"
      ],
      "metadata": {
        "trusted": true,
        "execution": {
          "iopub.status.busy": "2025-03-21T03:14:45.730553Z",
          "iopub.execute_input": "2025-03-21T03:14:45.731063Z",
          "iopub.status.idle": "2025-03-21T03:14:45.747733Z",
          "shell.execute_reply.started": "2025-03-21T03:14:45.730992Z",
          "shell.execute_reply": "2025-03-21T03:14:45.746533Z"
        },
        "id": "LXMPUo5rZYRh"
      },
      "outputs": [],
      "execution_count": null
    },
    {
      "cell_type": "code",
      "source": [
        "df.shape"
      ],
      "metadata": {
        "trusted": true,
        "execution": {
          "iopub.status.busy": "2025-03-21T03:14:52.95919Z",
          "iopub.execute_input": "2025-03-21T03:14:52.959527Z",
          "iopub.status.idle": "2025-03-21T03:14:52.965827Z",
          "shell.execute_reply.started": "2025-03-21T03:14:52.959502Z",
          "shell.execute_reply": "2025-03-21T03:14:52.964573Z"
        },
        "id": "jisYeAs4ZYRh"
      },
      "outputs": [],
      "execution_count": null
    },
    {
      "cell_type": "code",
      "source": [
        "df.columns"
      ],
      "metadata": {
        "trusted": true,
        "execution": {
          "iopub.status.busy": "2025-03-21T03:14:55.929175Z",
          "iopub.execute_input": "2025-03-21T03:14:55.929534Z",
          "iopub.status.idle": "2025-03-21T03:14:55.936029Z",
          "shell.execute_reply.started": "2025-03-21T03:14:55.929506Z",
          "shell.execute_reply": "2025-03-21T03:14:55.934926Z"
        },
        "id": "e0WzZA8IZYRi"
      },
      "outputs": [],
      "execution_count": null
    },
    {
      "cell_type": "markdown",
      "source": [
        "## data visualizations"
      ],
      "metadata": {
        "id": "zX4RGigmZYRi"
      }
    },
    {
      "cell_type": "code",
      "source": [
        "plt.figure(figsize=(8, 5))\n",
        "sns.histplot(df['Price'], bins=30, kde=True, color='darkblue')\n",
        "plt.title('Distribution of Car Prices')\n",
        "plt.xlabel('Price')\n",
        "plt.ylabel('Frequency')\n",
        "plt.show()"
      ],
      "metadata": {
        "trusted": true,
        "execution": {
          "iopub.status.busy": "2025-03-21T03:17:30.81272Z",
          "iopub.execute_input": "2025-03-21T03:17:30.813086Z",
          "iopub.status.idle": "2025-03-21T03:17:31.288689Z",
          "shell.execute_reply.started": "2025-03-21T03:17:30.81306Z",
          "shell.execute_reply": "2025-03-21T03:17:31.287612Z"
        },
        "id": "uNaZmTvBZYRi"
      },
      "outputs": [],
      "execution_count": null
    },
    {
      "cell_type": "code",
      "source": [
        "plt.figure(figsize=(10, 5))\n",
        "sns.boxplot(x=df['Manufacturing_year'], y=df['Price'], palette='Blues')\n",
        "plt.xticks(rotation=45)\n",
        "plt.title('Car Price Distribution by Manufacturing Year')\n",
        "plt.xlabel('Manufacturing Year')\n",
        "plt.ylabel('Price')\n",
        "plt.show()"
      ],
      "metadata": {
        "trusted": true,
        "execution": {
          "iopub.status.busy": "2025-03-21T03:17:37.629536Z",
          "iopub.execute_input": "2025-03-21T03:17:37.629929Z",
          "iopub.status.idle": "2025-03-21T03:17:37.994369Z",
          "shell.execute_reply.started": "2025-03-21T03:17:37.629898Z",
          "shell.execute_reply": "2025-03-21T03:17:37.993385Z"
        },
        "id": "GQnGOKmwZYRi"
      },
      "outputs": [],
      "execution_count": null
    },
    {
      "cell_type": "code",
      "source": [
        "plt.figure(figsize=(8, 5))\n",
        "sns.regplot(x=df['Engine capacity'], y=df['Price'], scatter_kws={'alpha':0.5}, color='darkgreen')\n",
        "plt.title('Price vs. Engine Capacity')\n",
        "plt.xlabel('Engine Capacity (cc)')\n",
        "plt.ylabel('Price')\n",
        "plt.show()"
      ],
      "metadata": {
        "trusted": true,
        "execution": {
          "iopub.status.busy": "2025-03-21T03:17:43.314454Z",
          "iopub.execute_input": "2025-03-21T03:17:43.314811Z",
          "iopub.status.idle": "2025-03-21T03:17:43.735607Z",
          "shell.execute_reply.started": "2025-03-21T03:17:43.314785Z",
          "shell.execute_reply": "2025-03-21T03:17:43.734334Z"
        },
        "id": "kBY73BvwZYRi"
      },
      "outputs": [],
      "execution_count": null
    },
    {
      "cell_type": "code",
      "source": [
        "plt.figure(figsize=(6, 4))\n",
        "sns.countplot(x=df['Transmission'], palette='coolwarm')\n",
        "plt.title('Count of Manual vs. Automatic Cars')\n",
        "plt.xlabel('Transmission Type')\n",
        "plt.ylabel('Count')\n",
        "plt.show()"
      ],
      "metadata": {
        "trusted": true,
        "execution": {
          "iopub.status.busy": "2025-03-21T03:17:48.059912Z",
          "iopub.execute_input": "2025-03-21T03:17:48.06033Z",
          "iopub.status.idle": "2025-03-21T03:17:48.206168Z",
          "shell.execute_reply.started": "2025-03-21T03:17:48.0603Z",
          "shell.execute_reply": "2025-03-21T03:17:48.205121Z"
        },
        "id": "3FV-FkkTZYRj"
      },
      "outputs": [],
      "execution_count": null
    },
    {
      "cell_type": "code",
      "source": [
        "plt.figure(figsize=(8, 5))\n",
        "sns.regplot(x=df['KM driven'], y=df['Price'], scatter_kws={'alpha':0.5}, color='darkred')\n",
        "plt.title('Price vs. KM Driven')\n",
        "plt.xlabel('KM Driven')\n",
        "plt.ylabel('Price')\n",
        "plt.show()"
      ],
      "metadata": {
        "trusted": true,
        "execution": {
          "iopub.status.busy": "2025-03-21T03:17:52.656215Z",
          "iopub.execute_input": "2025-03-21T03:17:52.656562Z",
          "iopub.status.idle": "2025-03-21T03:17:53.091657Z",
          "shell.execute_reply.started": "2025-03-21T03:17:52.656534Z",
          "shell.execute_reply": "2025-03-21T03:17:53.090575Z"
        },
        "id": "yFeXCe26ZYRj"
      },
      "outputs": [],
      "execution_count": null
    },
    {
      "cell_type": "code",
      "source": [
        "plt.figure(figsize=(6, 4))\n",
        "sns.countplot(x=df['Ownership'], palette='viridis')\n",
        "plt.title('Ownership Type Distribution')\n",
        "plt.xlabel('Ownership Type')\n",
        "plt.ylabel('Count')\n",
        "plt.show()"
      ],
      "metadata": {
        "trusted": true,
        "execution": {
          "iopub.status.busy": "2025-03-21T03:17:57.423274Z",
          "iopub.execute_input": "2025-03-21T03:17:57.423588Z",
          "iopub.status.idle": "2025-03-21T03:17:57.672318Z",
          "shell.execute_reply.started": "2025-03-21T03:17:57.423564Z",
          "shell.execute_reply": "2025-03-21T03:17:57.671459Z"
        },
        "id": "Oyqru5oXZYRj"
      },
      "outputs": [],
      "execution_count": null
    },
    {
      "cell_type": "code",
      "source": [
        "plt.figure(figsize=(8, 5))\n",
        "sns.boxplot(x=df['Fuel type'], y=df['Price'], palette='coolwarm')\n",
        "plt.title('Price Distribution Across Fuel Types')\n",
        "plt.xlabel('Fuel Type')\n",
        "plt.ylabel('Price')\n",
        "plt.show()"
      ],
      "metadata": {
        "trusted": true,
        "execution": {
          "iopub.status.busy": "2025-03-21T03:18:02.386144Z",
          "iopub.execute_input": "2025-03-21T03:18:02.386564Z",
          "iopub.status.idle": "2025-03-21T03:18:02.597023Z",
          "shell.execute_reply.started": "2025-03-21T03:18:02.386536Z",
          "shell.execute_reply": "2025-03-21T03:18:02.595595Z"
        },
        "id": "SIE360INZYRj"
      },
      "outputs": [],
      "execution_count": null
    },
    {
      "cell_type": "code",
      "source": [
        "plt.figure(figsize=(8, 5))\n",
        "sns.countplot(y=df['Imperfections'], order=df['Imperfections'].value_counts().index, palette='Blues_r')\n",
        "plt.title('Count of Different Imperfections')\n",
        "plt.xlabel('Count')\n",
        "plt.ylabel('Imperfection Type')\n",
        "plt.show()"
      ],
      "metadata": {
        "trusted": true,
        "execution": {
          "iopub.status.busy": "2025-03-21T03:18:06.991653Z",
          "iopub.execute_input": "2025-03-21T03:18:06.992049Z",
          "iopub.status.idle": "2025-03-21T03:18:07.461847Z",
          "shell.execute_reply.started": "2025-03-21T03:18:06.991992Z",
          "shell.execute_reply": "2025-03-21T03:18:07.46076Z"
        },
        "id": "Q0ypJzn3ZYRj"
      },
      "outputs": [],
      "execution_count": null
    },
    {
      "cell_type": "code",
      "source": [
        "plt.figure(figsize=(6, 6))\n",
        "df['Repainted Parts'].value_counts().plot.pie(autopct='%1.1f%%', colors=['skyblue', 'orange'], startangle=90)\n",
        "plt.title('Proportion of Cars with Repainted Parts')\n",
        "plt.ylabel('')\n",
        "plt.show()"
      ],
      "metadata": {
        "trusted": true,
        "execution": {
          "iopub.status.busy": "2025-03-21T03:18:11.709508Z",
          "iopub.execute_input": "2025-03-21T03:18:11.709948Z",
          "iopub.status.idle": "2025-03-21T03:18:12.042929Z",
          "shell.execute_reply.started": "2025-03-21T03:18:11.709915Z",
          "shell.execute_reply": "2025-03-21T03:18:12.041737Z"
        },
        "id": "h0Cf0LUwZYRk"
      },
      "outputs": [],
      "execution_count": null
    },
    {
      "cell_type": "markdown",
      "source": [
        "## Predictive modeling"
      ],
      "metadata": {
        "id": "pxeRbXjbZYRk"
      }
    },
    {
      "cell_type": "code",
      "source": [
        "from sklearn.model_selection import train_test_split\n",
        "from sklearn.preprocessing import LabelEncoder, StandardScaler\n",
        "from sklearn.metrics import mean_absolute_error, r2_score\n",
        "from sklearn.linear_model import LinearRegression\n",
        "from sklearn.tree import DecisionTreeRegressor\n",
        "from sklearn.ensemble import RandomForestRegressor\n",
        "from xgboost import XGBRegressor"
      ],
      "metadata": {
        "trusted": true,
        "execution": {
          "iopub.status.busy": "2025-03-21T03:19:03.517773Z",
          "iopub.execute_input": "2025-03-21T03:19:03.518157Z",
          "iopub.status.idle": "2025-03-21T03:19:04.605956Z",
          "shell.execute_reply.started": "2025-03-21T03:19:03.518125Z",
          "shell.execute_reply": "2025-03-21T03:19:04.605104Z"
        },
        "id": "O0LMv3zUZYRk"
      },
      "outputs": [],
      "execution_count": null
    },
    {
      "cell_type": "code",
      "source": [
        "df.fillna(df.median(numeric_only=True), inplace=True)  # Fill numeric with median\n",
        "df.fillna(df.mode().iloc[0], inplace=True)"
      ],
      "metadata": {
        "trusted": true,
        "execution": {
          "iopub.status.busy": "2025-03-21T03:19:11.930912Z",
          "iopub.execute_input": "2025-03-21T03:19:11.931303Z",
          "iopub.status.idle": "2025-03-21T03:19:11.952949Z",
          "shell.execute_reply.started": "2025-03-21T03:19:11.931274Z",
          "shell.execute_reply": "2025-03-21T03:19:11.951842Z"
        },
        "id": "IFXSI91MZYRk"
      },
      "outputs": [],
      "execution_count": null
    },
    {
      "cell_type": "code",
      "source": [
        "# Encode categorical columns\n",
        "cat_cols = ['Model Name', 'Spare key', 'Transmission', 'Ownership', 'Fuel type', 'Imperfections', 'Repainted Parts']\n",
        "le = LabelEncoder()\n",
        "for col in cat_cols:\n",
        "    df[col] = le.fit_transform(df[col])"
      ],
      "metadata": {
        "trusted": true,
        "execution": {
          "iopub.status.busy": "2025-03-21T03:19:18.232725Z",
          "iopub.execute_input": "2025-03-21T03:19:18.233138Z",
          "iopub.status.idle": "2025-03-21T03:19:18.244776Z",
          "shell.execute_reply.started": "2025-03-21T03:19:18.233107Z",
          "shell.execute_reply": "2025-03-21T03:19:18.243632Z"
        },
        "id": "9BHTpA7wZYRl"
      },
      "outputs": [],
      "execution_count": null
    },
    {
      "cell_type": "code",
      "source": [
        "# Select features and target\n",
        "X = df.drop(columns=['Price'])  # Independent variables\n",
        "y = df['Price']"
      ],
      "metadata": {
        "trusted": true,
        "execution": {
          "iopub.status.busy": "2025-03-21T03:19:26.025433Z",
          "iopub.execute_input": "2025-03-21T03:19:26.025878Z",
          "iopub.status.idle": "2025-03-21T03:19:26.032754Z",
          "shell.execute_reply.started": "2025-03-21T03:19:26.025838Z",
          "shell.execute_reply": "2025-03-21T03:19:26.031495Z"
        },
        "id": "7C1Nklp1ZYRm"
      },
      "outputs": [],
      "execution_count": null
    },
    {
      "cell_type": "code",
      "source": [
        "# Train-test split (80-20)\n",
        "X_train, X_test, y_train, y_test = train_test_split(X, y, test_size=0.2, random_state=42)"
      ],
      "metadata": {
        "trusted": true,
        "execution": {
          "iopub.status.busy": "2025-03-21T03:19:32.846991Z",
          "iopub.execute_input": "2025-03-21T03:19:32.847375Z",
          "iopub.status.idle": "2025-03-21T03:19:32.85485Z",
          "shell.execute_reply.started": "2025-03-21T03:19:32.847346Z",
          "shell.execute_reply": "2025-03-21T03:19:32.853988Z"
        },
        "id": "ulzmGiZBZYRm"
      },
      "outputs": [],
      "execution_count": null
    },
    {
      "cell_type": "code",
      "source": [
        "scaler = StandardScaler()\n",
        "X_train[['Engine capacity', 'KM driven', 'Manufacturing_year']] = scaler.fit_transform(X_train[['Engine capacity', 'KM driven', 'Manufacturing_year']])\n",
        "X_test[['Engine capacity', 'KM driven', 'Manufacturing_year']] = scaler.transform(X_test[['Engine capacity', 'KM driven', 'Manufacturing_year']])"
      ],
      "metadata": {
        "trusted": true,
        "execution": {
          "iopub.status.busy": "2025-03-21T03:19:40.713938Z",
          "iopub.execute_input": "2025-03-21T03:19:40.714304Z",
          "iopub.status.idle": "2025-03-21T03:19:40.726293Z",
          "shell.execute_reply.started": "2025-03-21T03:19:40.714276Z",
          "shell.execute_reply": "2025-03-21T03:19:40.724915Z"
        },
        "id": "5DyPhgCoZYRn"
      },
      "outputs": [],
      "execution_count": null
    },
    {
      "cell_type": "code",
      "source": [
        "models = {\n",
        "    \"Linear Regression\": LinearRegression(),\n",
        "    \"Decision Tree\": DecisionTreeRegressor(random_state=42),\n",
        "    \"Random Forest\": RandomForestRegressor(n_estimators=100, random_state=42),\n",
        "    \"XGBoost\": XGBRegressor(n_estimators=100, random_state=42)\n",
        "}"
      ],
      "metadata": {
        "trusted": true,
        "execution": {
          "iopub.status.busy": "2025-03-21T03:19:49.329609Z",
          "iopub.execute_input": "2025-03-21T03:19:49.329968Z",
          "iopub.status.idle": "2025-03-21T03:19:49.335378Z",
          "shell.execute_reply.started": "2025-03-21T03:19:49.329942Z",
          "shell.execute_reply": "2025-03-21T03:19:49.334387Z"
        },
        "id": "xkY-JTV0ZYRn"
      },
      "outputs": [],
      "execution_count": null
    },
    {
      "cell_type": "code",
      "source": [
        "# Train models and evaluate\n",
        "results = {}\n",
        "for name, model in models.items():\n",
        "    model.fit(X_train, y_train)\n",
        "    y_pred = model.predict(X_test)\n",
        "\n",
        "    r2 = r2_score(y_test, y_pred)\n",
        "    mae = mean_absolute_error(y_test, y_pred)\n",
        "\n",
        "    results[name] = {\"R² Score\": r2, \"MAE\": mae}\n"
      ],
      "metadata": {
        "trusted": true,
        "execution": {
          "iopub.status.busy": "2025-03-21T03:19:55.262266Z",
          "iopub.execute_input": "2025-03-21T03:19:55.262615Z",
          "iopub.status.idle": "2025-03-21T03:19:55.955997Z",
          "shell.execute_reply.started": "2025-03-21T03:19:55.262583Z",
          "shell.execute_reply": "2025-03-21T03:19:55.955137Z"
        },
        "id": "XL9-TqOgZYRn"
      },
      "outputs": [],
      "execution_count": null
    },
    {
      "cell_type": "code",
      "source": [
        "# Display results\n",
        "results_df = pd.DataFrame(results).T\n",
        "print(results_df)"
      ],
      "metadata": {
        "trusted": true,
        "execution": {
          "iopub.status.busy": "2025-03-21T03:20:01.331363Z",
          "iopub.execute_input": "2025-03-21T03:20:01.331716Z",
          "iopub.status.idle": "2025-03-21T03:20:01.340371Z",
          "shell.execute_reply.started": "2025-03-21T03:20:01.331681Z",
          "shell.execute_reply": "2025-03-21T03:20:01.338965Z"
        },
        "id": "FleBd4uxZYRn"
      },
      "outputs": [],
      "execution_count": null
    },
    {
      "cell_type": "code",
      "source": [
        "models = [\"Linear Regression\", \"Decision Tree\", \"Random Forest\", \"XGBoost\"]\n",
        "r2_scores = [0.803813, 0.803520, 0.862652, 0.864392]\n",
        "mae_values = [61020.22, 57910.03, 47078.58, 46320.28]\n",
        "\n",
        "# Convert R² scores to percentages\n",
        "r2_percent = [r * 100 for r in r2_scores]\n",
        "\n",
        "# Normalize MAE to percentage (lower is better, so we reverse the scale)\n",
        "max_mae = max(mae_values)\n",
        "mae_percent = [(1 - (m / max_mae)) * 100 for m in mae_values]\n",
        "\n",
        "# Create DataFrame for plotting\n",
        "data = pd.DataFrame({\"Model\": models, \"R² Score (%)\": r2_percent, \"MAE (%)\": mae_percent})\n",
        "\n",
        "# Plot the percentage bar graph\n",
        "plt.figure(figsize=(10, 5))\n",
        "sns.barplot(x=\"Model\", y=\"R² Score (%)\", data=data, color=\"darkblue\", label=\"R² Score\")\n",
        "sns.barplot(x=\"Model\", y=\"MAE (%)\", data=data, color=\"darkred\", label=\"MAE (Inverted)\")\n",
        "\n",
        "plt.title(\"Model Performance Comparison in Percentage\")\n",
        "plt.ylabel(\"Percentage (%)\")\n",
        "plt.legend()\n",
        "plt.ylim(0, 100)  # Set percentage limit\n",
        "plt.show()\n"
      ],
      "metadata": {
        "trusted": true,
        "execution": {
          "iopub.status.busy": "2025-03-21T03:21:31.184749Z",
          "iopub.execute_input": "2025-03-21T03:21:31.185192Z",
          "iopub.status.idle": "2025-03-21T03:21:31.429182Z",
          "shell.execute_reply.started": "2025-03-21T03:21:31.185159Z",
          "shell.execute_reply": "2025-03-21T03:21:31.428191Z"
        },
        "id": "F574yORDZYRn"
      },
      "outputs": [],
      "execution_count": null
    },
    {
      "cell_type": "markdown",
      "source": [
        "## Thank you!!!...pls upvote!!!!"
      ],
      "metadata": {
        "id": "qqhCh2lyZYRo"
      }
    }
  ]
}
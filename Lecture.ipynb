{
 "cells": [
  {
   "cell_type": "markdown",
   "id": "e75e6022",
   "metadata": {},
   "source": [
    "Data structures in python\n",
    "List tuples dictionery\n"
   ]
  },
  {
   "cell_type": "code",
   "execution_count": 1,
   "id": "ae4f2c43",
   "metadata": {},
   "outputs": [],
   "source": [
    "L =[1,2,3,4,5]"
   ]
  },
  {
   "cell_type": "code",
   "execution_count": 2,
   "id": "88ce30f7",
   "metadata": {},
   "outputs": [
    {
     "data": {
      "text/plain": [
       "[1, 2, 3, 4, 5]"
      ]
     },
     "execution_count": 2,
     "metadata": {},
     "output_type": "execute_result"
    }
   ],
   "source": [
    "L"
   ]
  },
  {
   "cell_type": "code",
   "execution_count": 3,
   "id": "d72ff74a",
   "metadata": {},
   "outputs": [
    {
     "data": {
      "text/plain": [
       "1"
      ]
     },
     "execution_count": 3,
     "metadata": {},
     "output_type": "execute_result"
    }
   ],
   "source": [
    "L[0]"
   ]
  },
  {
   "cell_type": "code",
   "execution_count": 4,
   "id": "c035095a",
   "metadata": {},
   "outputs": [
    {
     "data": {
      "text/plain": [
       "[1, 2, 3]"
      ]
     },
     "execution_count": 4,
     "metadata": {},
     "output_type": "execute_result"
    }
   ],
   "source": [
    "L[0:3]"
   ]
  },
  {
   "cell_type": "code",
   "execution_count": 5,
   "id": "dc65e0bb",
   "metadata": {},
   "outputs": [
    {
     "data": {
      "text/plain": [
       "[1, 3]"
      ]
     },
     "execution_count": 5,
     "metadata": {},
     "output_type": "execute_result"
    }
   ],
   "source": [
    "L[0:3:2]"
   ]
  },
  {
   "cell_type": "code",
   "execution_count": 6,
   "id": "151de797",
   "metadata": {},
   "outputs": [
    {
     "data": {
      "text/plain": [
       "5"
      ]
     },
     "execution_count": 6,
     "metadata": {},
     "output_type": "execute_result"
    }
   ],
   "source": [
    "L[-1]"
   ]
  },
  {
   "cell_type": "code",
   "execution_count": 7,
   "id": "5dac5842",
   "metadata": {},
   "outputs": [
    {
     "data": {
      "text/plain": [
       "[3, 4]"
      ]
     },
     "execution_count": 7,
     "metadata": {},
     "output_type": "execute_result"
    }
   ],
   "source": [
    "L[-3:-1]"
   ]
  },
  {
   "cell_type": "code",
   "execution_count": 8,
   "id": "9d2e65f5",
   "metadata": {},
   "outputs": [
    {
     "data": {
      "text/plain": [
       "[3, 4, 5]"
      ]
     },
     "execution_count": 8,
     "metadata": {},
     "output_type": "execute_result"
    }
   ],
   "source": [
    "L[-3:]"
   ]
  },
  {
   "cell_type": "code",
   "execution_count": 9,
   "id": "66724d59",
   "metadata": {},
   "outputs": [],
   "source": [
    "L.append(7)"
   ]
  },
  {
   "cell_type": "code",
   "execution_count": 10,
   "id": "715a7a7c",
   "metadata": {},
   "outputs": [
    {
     "data": {
      "text/plain": [
       "[1, 2, 3, 4, 5, 7]"
      ]
     },
     "execution_count": 10,
     "metadata": {},
     "output_type": "execute_result"
    }
   ],
   "source": [
    "L"
   ]
  },
  {
   "cell_type": "code",
   "execution_count": 11,
   "id": "61b54038",
   "metadata": {},
   "outputs": [],
   "source": [
    "L.append(6)"
   ]
  },
  {
   "cell_type": "code",
   "execution_count": 12,
   "id": "f6d09b5a",
   "metadata": {},
   "outputs": [
    {
     "data": {
      "text/plain": [
       "[1, 2, 3, 4, 5, 7, 6]"
      ]
     },
     "execution_count": 12,
     "metadata": {},
     "output_type": "execute_result"
    }
   ],
   "source": [
    "L"
   ]
  },
  {
   "cell_type": "code",
   "execution_count": 13,
   "id": "35dfcef5",
   "metadata": {},
   "outputs": [],
   "source": [
    "L.sort()"
   ]
  },
  {
   "cell_type": "code",
   "execution_count": 14,
   "id": "294cf481",
   "metadata": {},
   "outputs": [
    {
     "data": {
      "text/plain": [
       "[1, 2, 3, 4, 5, 6, 7]"
      ]
     },
     "execution_count": 14,
     "metadata": {},
     "output_type": "execute_result"
    }
   ],
   "source": [
    "L"
   ]
  },
  {
   "cell_type": "code",
   "execution_count": 15,
   "id": "0dd7f4d2",
   "metadata": {},
   "outputs": [],
   "source": [
    "L.insert(2,2.5)"
   ]
  },
  {
   "cell_type": "code",
   "execution_count": 16,
   "id": "a1124ed8",
   "metadata": {},
   "outputs": [
    {
     "data": {
      "text/plain": [
       "[1, 2, 2.5, 3, 4, 5, 6, 7]"
      ]
     },
     "execution_count": 16,
     "metadata": {},
     "output_type": "execute_result"
    }
   ],
   "source": [
    "L"
   ]
  },
  {
   "cell_type": "code",
   "execution_count": 17,
   "id": "d8491e50",
   "metadata": {},
   "outputs": [
    {
     "data": {
      "text/plain": [
       "8"
      ]
     },
     "execution_count": 17,
     "metadata": {},
     "output_type": "execute_result"
    }
   ],
   "source": [
    "len(L)"
   ]
  },
  {
   "cell_type": "code",
   "execution_count": 18,
   "id": "2f1c2bd1",
   "metadata": {},
   "outputs": [
    {
     "data": {
      "text/plain": [
       "7"
      ]
     },
     "execution_count": 18,
     "metadata": {},
     "output_type": "execute_result"
    }
   ],
   "source": [
    "max(L)"
   ]
  },
  {
   "cell_type": "code",
   "execution_count": 19,
   "id": "36e48e08",
   "metadata": {},
   "outputs": [
    {
     "data": {
      "text/plain": [
       "1"
      ]
     },
     "execution_count": 19,
     "metadata": {},
     "output_type": "execute_result"
    }
   ],
   "source": [
    "min(L)"
   ]
  },
  {
   "cell_type": "code",
   "execution_count": 20,
   "id": "ede61e30",
   "metadata": {},
   "outputs": [],
   "source": [
    "del(L[0])"
   ]
  },
  {
   "cell_type": "code",
   "execution_count": 21,
   "id": "cb4a6899",
   "metadata": {},
   "outputs": [
    {
     "data": {
      "text/plain": [
       "[2, 2.5, 3, 4, 5, 6, 7]"
      ]
     },
     "execution_count": 21,
     "metadata": {},
     "output_type": "execute_result"
    }
   ],
   "source": [
    "L"
   ]
  },
  {
   "cell_type": "code",
   "execution_count": 22,
   "id": "ab9c6ff8",
   "metadata": {},
   "outputs": [
    {
     "data": {
      "text/plain": [
       "[2, 4, 6, 8, 10, 12, 14, 16, 18, 20]"
      ]
     },
     "execution_count": 22,
     "metadata": {},
     "output_type": "execute_result"
    }
   ],
   "source": [
    "L=[]\n",
    "for i in range(1,11):\n",
    "    L.append(2*i)\n",
    "L"
   ]
  },
  {
   "cell_type": "code",
   "execution_count": 23,
   "id": "1b770a24",
   "metadata": {},
   "outputs": [
    {
     "data": {
      "text/plain": [
       "[[1, 1],\n",
       " [2, 4],\n",
       " [3, 9],\n",
       " [4, 16],\n",
       " [5, 25],\n",
       " [6, 36],\n",
       " [7, 49],\n",
       " [8, 64],\n",
       " [9, 81],\n",
       " [10, 100]]"
      ]
     },
     "execution_count": 23,
     "metadata": {},
     "output_type": "execute_result"
    }
   ],
   "source": [
    "L=[]\n",
    "for i in range(1,11):\n",
    "    L.append([i, i**2])\n",
    "L"
   ]
  },
  {
   "cell_type": "code",
   "execution_count": 24,
   "id": "54946943",
   "metadata": {},
   "outputs": [],
   "source": [
    "t= (1,2,3,4,5)"
   ]
  },
  {
   "cell_type": "code",
   "execution_count": 25,
   "id": "a6f34878",
   "metadata": {},
   "outputs": [
    {
     "data": {
      "text/plain": [
       "(1, 2, 3, 4, 5)"
      ]
     },
     "execution_count": 25,
     "metadata": {},
     "output_type": "execute_result"
    }
   ],
   "source": [
    "t"
   ]
  },
  {
   "cell_type": "code",
   "execution_count": 26,
   "id": "8b3fd839",
   "metadata": {},
   "outputs": [
    {
     "ename": "AttributeError",
     "evalue": "'tuple' object has no attribute 'append'",
     "output_type": "error",
     "traceback": [
      "\u001b[1;31m---------------------------------------------------------------------------\u001b[0m",
      "\u001b[1;31mAttributeError\u001b[0m                            Traceback (most recent call last)",
      "\u001b[1;32m<ipython-input-26-d0908ae6cae4>\u001b[0m in \u001b[0;36m<module>\u001b[1;34m\u001b[0m\n\u001b[1;32m----> 1\u001b[1;33m \u001b[0mt\u001b[0m\u001b[1;33m.\u001b[0m\u001b[0mappend\u001b[0m\u001b[1;33m(\u001b[0m\u001b[1;36m6\u001b[0m\u001b[1;33m)\u001b[0m\u001b[1;33m\u001b[0m\u001b[1;33m\u001b[0m\u001b[0m\n\u001b[0m",
      "\u001b[1;31mAttributeError\u001b[0m: 'tuple' object has no attribute 'append'"
     ]
    }
   ],
   "source": [
    "t.append(6)"
   ]
  },
  {
   "cell_type": "code",
   "execution_count": 27,
   "id": "37c7e318",
   "metadata": {},
   "outputs": [],
   "source": [
    "D= {'Name':'Ajay','age':54}"
   ]
  },
  {
   "cell_type": "code",
   "execution_count": 28,
   "id": "e924b7d9",
   "metadata": {},
   "outputs": [
    {
     "data": {
      "text/plain": [
       "{'Name': 'Ajay', 'age': 54}"
      ]
     },
     "execution_count": 28,
     "metadata": {},
     "output_type": "execute_result"
    }
   ],
   "source": [
    "D"
   ]
  },
  {
   "cell_type": "code",
   "execution_count": 29,
   "id": "dfa7e537",
   "metadata": {},
   "outputs": [
    {
     "data": {
      "text/plain": [
       "dict_keys(['Name', 'age'])"
      ]
     },
     "execution_count": 29,
     "metadata": {},
     "output_type": "execute_result"
    }
   ],
   "source": [
    "D.keys()"
   ]
  },
  {
   "cell_type": "code",
   "execution_count": 30,
   "id": "f242d9e3",
   "metadata": {},
   "outputs": [
    {
     "data": {
      "text/plain": [
       "dict_values(['Ajay', 54])"
      ]
     },
     "execution_count": 30,
     "metadata": {},
     "output_type": "execute_result"
    }
   ],
   "source": [
    "D.values()"
   ]
  },
  {
   "cell_type": "code",
   "execution_count": 34,
   "id": "27e533f0",
   "metadata": {},
   "outputs": [],
   "source": [
    "D= {'Name':['Ajay','aaa','ddd'],'age':[54,33]}"
   ]
  },
  {
   "cell_type": "code",
   "execution_count": 35,
   "id": "807661a2",
   "metadata": {},
   "outputs": [
    {
     "data": {
      "text/plain": [
       "{'Name': ['Ajay', 'aaa', 'ddd'], 'age': [54, 33]}"
      ]
     },
     "execution_count": 35,
     "metadata": {},
     "output_type": "execute_result"
    }
   ],
   "source": [
    "D"
   ]
  },
  {
   "cell_type": "code",
   "execution_count": 33,
   "id": "240da81a",
   "metadata": {},
   "outputs": [
    {
     "data": {
      "text/plain": [
       "['Ajay', 'aaa', 'ddd']"
      ]
     },
     "execution_count": 33,
     "metadata": {},
     "output_type": "execute_result"
    }
   ],
   "source": [
    "D['Name']"
   ]
  },
  {
   "cell_type": "code",
   "execution_count": 36,
   "id": "7824803c",
   "metadata": {},
   "outputs": [],
   "source": [
    "import random"
   ]
  },
  {
   "cell_type": "code",
   "execution_count": 39,
   "id": "8dac3ad7",
   "metadata": {},
   "outputs": [
    {
     "data": {
      "text/plain": [
       "0.9053787773121696"
      ]
     },
     "execution_count": 39,
     "metadata": {},
     "output_type": "execute_result"
    }
   ],
   "source": [
    "random.random()"
   ]
  },
  {
   "cell_type": "code",
   "execution_count": 41,
   "id": "5f4d29e2",
   "metadata": {},
   "outputs": [
    {
     "data": {
      "text/plain": [
       "147"
      ]
     },
     "execution_count": 41,
     "metadata": {},
     "output_type": "execute_result"
    }
   ],
   "source": [
    "random.randint(1,1000)"
   ]
  },
  {
   "cell_type": "code",
   "execution_count": 43,
   "id": "5823a057",
   "metadata": {},
   "outputs": [
    {
     "data": {
      "text/plain": [
       "500"
      ]
     },
     "execution_count": 43,
     "metadata": {},
     "output_type": "execute_result"
    }
   ],
   "source": [
    "random.randrange(100,1000,10)"
   ]
  },
  {
   "cell_type": "code",
   "execution_count": 45,
   "id": "9e1c3fbe",
   "metadata": {},
   "outputs": [
    {
     "data": {
      "text/plain": [
       "[5, 25]"
      ]
     },
     "execution_count": 45,
     "metadata": {},
     "output_type": "execute_result"
    }
   ],
   "source": [
    "random.choice(L)"
   ]
  },
  {
   "cell_type": "code",
   "execution_count": 46,
   "id": "b65831ea",
   "metadata": {},
   "outputs": [
    {
     "data": {
      "text/plain": [
       "[[8, 64], [4, 16]]"
      ]
     },
     "execution_count": 46,
     "metadata": {},
     "output_type": "execute_result"
    }
   ],
   "source": [
    "random.sample(L,2)"
   ]
  },
  {
   "cell_type": "code",
   "execution_count": 47,
   "id": "8b9ba760",
   "metadata": {},
   "outputs": [],
   "source": [
    "random.shuffle(L)"
   ]
  },
  {
   "cell_type": "code",
   "execution_count": 48,
   "id": "8bf2de16",
   "metadata": {},
   "outputs": [
    {
     "data": {
      "text/plain": [
       "[[6, 36],\n",
       " [1, 1],\n",
       " [8, 64],\n",
       " [5, 25],\n",
       " [4, 16],\n",
       " [2, 4],\n",
       " [7, 49],\n",
       " [10, 100],\n",
       " [9, 81],\n",
       " [3, 9]]"
      ]
     },
     "execution_count": 48,
     "metadata": {},
     "output_type": "execute_result"
    }
   ],
   "source": [
    "L"
   ]
  },
  {
   "cell_type": "code",
   "execution_count": 49,
   "id": "541e11fb",
   "metadata": {},
   "outputs": [],
   "source": [
    "import time"
   ]
  },
  {
   "cell_type": "code",
   "execution_count": 51,
   "id": "caa5a045",
   "metadata": {},
   "outputs": [
    {
     "data": {
      "text/plain": [
       "1737543594.0782363"
      ]
     },
     "execution_count": 51,
     "metadata": {},
     "output_type": "execute_result"
    }
   ],
   "source": [
    "s = time.time()\n",
    "s"
   ]
  },
  {
   "cell_type": "code",
   "execution_count": 54,
   "id": "7a8022b5",
   "metadata": {},
   "outputs": [
    {
     "name": "stdout",
     "output_type": "stream",
     "text": [
      "Time taken 2.3106186389923096\n"
     ]
    }
   ],
   "source": [
    "s = time.time()\n",
    "for i in range(10000000):\n",
    "    k = 2*i\n",
    "e = time.time()\n",
    "print(\"Time taken\",e-s)"
   ]
  },
  {
   "cell_type": "code",
   "execution_count": 1,
   "id": "dfaa8c59",
   "metadata": {},
   "outputs": [],
   "source": [
    "import mysql.connector"
   ]
  },
  {
   "cell_type": "code",
   "execution_count": 2,
   "id": "bcce0791",
   "metadata": {},
   "outputs": [],
   "source": [
    "mydb= mysql.connector.connect(host = 'localhost', user = 'root', passwd='')"
   ]
  },
  {
   "cell_type": "code",
   "execution_count": 3,
   "id": "50e1f05c",
   "metadata": {},
   "outputs": [],
   "source": [
    "cursor= mydb.cursor()"
   ]
  },
  {
   "cell_type": "code",
   "execution_count": 4,
   "id": "ff456333",
   "metadata": {},
   "outputs": [],
   "source": [
    "cursor.execute(\"create database institute18\")"
   ]
  },
  {
   "cell_type": "code",
   "execution_count": 5,
   "id": "a1c885c1",
   "metadata": {},
   "outputs": [],
   "source": [
    "cursor.execute(\"use institute18\")"
   ]
  },
  {
   "cell_type": "code",
   "execution_count": 6,
   "id": "9f529471",
   "metadata": {},
   "outputs": [],
   "source": [
    "cursor.execute(\"create table student(name VARCHAR(255), mobile bigint)\")"
   ]
  },
  {
   "cell_type": "code",
   "execution_count": 11,
   "id": "7cd39558",
   "metadata": {},
   "outputs": [],
   "source": [
    "cursor.execute(\"insert into student (name,mobile) values ('Ajay', 9501030373) \")"
   ]
  },
  {
   "cell_type": "code",
   "execution_count": 12,
   "id": "fe0cb639",
   "metadata": {},
   "outputs": [],
   "source": [
    "mydb.commit()"
   ]
  },
  {
   "cell_type": "code",
   "execution_count": 13,
   "id": "a1e83829",
   "metadata": {},
   "outputs": [],
   "source": [
    "cursor.execute(\"select * from student\")\n",
    "result= cursor.fetchall()"
   ]
  },
  {
   "cell_type": "code",
   "execution_count": 14,
   "id": "94068a54",
   "metadata": {},
   "outputs": [
    {
     "data": {
      "text/plain": [
       "[('Ajay', 9501030373), ('Ajay', 9501030373)]"
      ]
     },
     "execution_count": 14,
     "metadata": {},
     "output_type": "execute_result"
    }
   ],
   "source": [
    "result"
   ]
  },
  {
   "cell_type": "code",
   "execution_count": 16,
   "id": "7358062f",
   "metadata": {},
   "outputs": [
    {
     "data": {
      "text/plain": [
       "[('Ajay', 9501030373), ('Ajay', 9501030373)]"
      ]
     },
     "execution_count": 16,
     "metadata": {},
     "output_type": "execute_result"
    }
   ],
   "source": [
    "cursor.execute(\"select * from student where name ='Ajay'\")\n",
    "result= cursor.fetchall()\n",
    "result"
   ]
  },
  {
   "cell_type": "code",
   "execution_count": 17,
   "id": "4a285b71",
   "metadata": {},
   "outputs": [],
   "source": [
    "cursor.execute(\"update student set mobile = 12345 where name='Ajay'\")"
   ]
  },
  {
   "cell_type": "code",
   "execution_count": 19,
   "id": "23ba2a21",
   "metadata": {},
   "outputs": [],
   "source": [
    "mydb.commit()"
   ]
  },
  {
   "cell_type": "code",
   "execution_count": 20,
   "id": "dfe1c023",
   "metadata": {},
   "outputs": [
    {
     "data": {
      "text/plain": [
       "[('Ajay', 12345), ('Ajay', 12345)]"
      ]
     },
     "execution_count": 20,
     "metadata": {},
     "output_type": "execute_result"
    }
   ],
   "source": [
    "cursor.execute(\"select * from student\")\n",
    "result= cursor.fetchall()\n",
    "result"
   ]
  },
  {
   "cell_type": "code",
   "execution_count": 22,
   "id": "33c1f9a4",
   "metadata": {},
   "outputs": [
    {
     "name": "stdout",
     "output_type": "stream",
     "text": [
      "Enter nameqqq\n",
      "Enter mobile number6666\n"
     ]
    }
   ],
   "source": [
    "a = input(\"Enter name\")\n",
    "b = int(input(\"Enter mobile number\"))\n",
    "cursor.execute(\"insert into student (name,mobile) values (%s,%s)\", (a,b))\n",
    "mydb.commit()"
   ]
  },
  {
   "cell_type": "code",
   "execution_count": 1,
   "id": "94751be1",
   "metadata": {},
   "outputs": [],
   "source": [
    "#!pip install numpy"
   ]
  },
  {
   "cell_type": "code",
   "execution_count": 2,
   "id": "1cb736ba",
   "metadata": {},
   "outputs": [],
   "source": [
    "import numpy as np"
   ]
  },
  {
   "cell_type": "code",
   "execution_count": 3,
   "id": "c0071a02",
   "metadata": {},
   "outputs": [
    {
     "data": {
      "text/plain": [
       "array([1, 2, 3, 4, 5])"
      ]
     },
     "execution_count": 3,
     "metadata": {},
     "output_type": "execute_result"
    }
   ],
   "source": [
    "L=[1,2,3,4,5]\n",
    "array1d= np.array(L)\n",
    "array1d"
   ]
  },
  {
   "cell_type": "code",
   "execution_count": 4,
   "id": "6483432a",
   "metadata": {},
   "outputs": [
    {
     "data": {
      "text/plain": [
       "array([[1, 2, 3, 4, 5],\n",
       "       [3, 4, 5, 6, 7]])"
      ]
     },
     "execution_count": 4,
     "metadata": {},
     "output_type": "execute_result"
    }
   ],
   "source": [
    "L=[[1,2,3,4,5],[3,4,5,6,7]]\n",
    "array2d= np.array(L)\n",
    "array2d"
   ]
  },
  {
   "cell_type": "code",
   "execution_count": 5,
   "id": "53949c25",
   "metadata": {},
   "outputs": [],
   "source": [
    "a= np.arange(10)"
   ]
  },
  {
   "cell_type": "code",
   "execution_count": 6,
   "id": "1f13ea26",
   "metadata": {},
   "outputs": [
    {
     "data": {
      "text/plain": [
       "array([0, 1, 2, 3, 4, 5, 6, 7, 8, 9])"
      ]
     },
     "execution_count": 6,
     "metadata": {},
     "output_type": "execute_result"
    }
   ],
   "source": [
    "a"
   ]
  },
  {
   "cell_type": "code",
   "execution_count": 7,
   "id": "605dccb6",
   "metadata": {},
   "outputs": [
    {
     "data": {
      "text/plain": [
       "array([[0, 1, 2, 3, 4],\n",
       "       [5, 6, 7, 8, 9]])"
      ]
     },
     "execution_count": 7,
     "metadata": {},
     "output_type": "execute_result"
    }
   ],
   "source": [
    "b= np.arange(10).reshape(2,5)\n",
    "b"
   ]
  },
  {
   "cell_type": "code",
   "execution_count": 8,
   "id": "cc9e6057",
   "metadata": {},
   "outputs": [],
   "source": [
    "a= np.arange(10,100,5)"
   ]
  },
  {
   "cell_type": "code",
   "execution_count": 9,
   "id": "ca034258",
   "metadata": {},
   "outputs": [
    {
     "data": {
      "text/plain": [
       "array([10, 15, 20, 25, 30, 35, 40, 45, 50, 55, 60, 65, 70, 75, 80, 85, 90,\n",
       "       95])"
      ]
     },
     "execution_count": 9,
     "metadata": {},
     "output_type": "execute_result"
    }
   ],
   "source": [
    "a"
   ]
  },
  {
   "cell_type": "code",
   "execution_count": 10,
   "id": "ac5bd7cb",
   "metadata": {},
   "outputs": [
    {
     "data": {
      "text/plain": [
       "array([[0.94693329, 0.32109432, 0.74059231],\n",
       "       [0.20769305, 0.35256769, 0.05386517],\n",
       "       [0.14332608, 0.48093024, 0.16271959]])"
      ]
     },
     "execution_count": 10,
     "metadata": {},
     "output_type": "execute_result"
    }
   ],
   "source": [
    "a= np.random.random((3,3))\n",
    "a"
   ]
  },
  {
   "cell_type": "code",
   "execution_count": 12,
   "id": "6f973fff",
   "metadata": {},
   "outputs": [
    {
     "data": {
      "text/plain": [
       "array([[ 0.08939613, -1.28631404,  2.23523814],\n",
       "       [-1.70850857,  0.93990092,  0.51360916],\n",
       "       [-1.95746485,  0.82531858, -2.11259263]])"
      ]
     },
     "execution_count": 12,
     "metadata": {},
     "output_type": "execute_result"
    }
   ],
   "source": [
    "a= np.random.randn(3,3)\n",
    "a"
   ]
  },
  {
   "cell_type": "code",
   "execution_count": 14,
   "id": "9d15631e",
   "metadata": {},
   "outputs": [
    {
     "data": {
      "text/plain": [
       "array([[5, 9, 2],\n",
       "       [2, 4, 9],\n",
       "       [5, 8, 1]])"
      ]
     },
     "execution_count": 14,
     "metadata": {},
     "output_type": "execute_result"
    }
   ],
   "source": [
    "a= np.random.randint(1,10,(3,3))\n",
    "a"
   ]
  },
  {
   "cell_type": "code",
   "execution_count": 16,
   "id": "2c9a9341",
   "metadata": {},
   "outputs": [
    {
     "data": {
      "text/plain": [
       "array([[0., 0., 0.],\n",
       "       [0., 0., 0.],\n",
       "       [0., 0., 0.]])"
      ]
     },
     "execution_count": 16,
     "metadata": {},
     "output_type": "execute_result"
    }
   ],
   "source": [
    "null= np.zeros((3,3))\n",
    "null"
   ]
  },
  {
   "cell_type": "code",
   "execution_count": 17,
   "id": "5ca6cf48",
   "metadata": {},
   "outputs": [
    {
     "data": {
      "text/plain": [
       "array([[0, 0, 0],\n",
       "       [0, 0, 0],\n",
       "       [0, 0, 0]])"
      ]
     },
     "execution_count": 17,
     "metadata": {},
     "output_type": "execute_result"
    }
   ],
   "source": [
    "null= np.zeros((3,3), dtype = int)\n",
    "null"
   ]
  },
  {
   "cell_type": "code",
   "execution_count": 18,
   "id": "88e87de3",
   "metadata": {},
   "outputs": [
    {
     "data": {
      "text/plain": [
       "array([[1, 1, 1],\n",
       "       [1, 1, 1],\n",
       "       [1, 1, 1]])"
      ]
     },
     "execution_count": 18,
     "metadata": {},
     "output_type": "execute_result"
    }
   ],
   "source": [
    "one= np.ones((3,3), dtype = int)\n",
    "one"
   ]
  },
  {
   "cell_type": "code",
   "execution_count": 20,
   "id": "d6c6ee07",
   "metadata": {},
   "outputs": [
    {
     "data": {
      "text/plain": [
       "array([[5, 5, 5],\n",
       "       [5, 5, 5],\n",
       "       [5, 5, 5]])"
      ]
     },
     "execution_count": 20,
     "metadata": {},
     "output_type": "execute_result"
    }
   ],
   "source": [
    "same= np.full((3,3),5)\n",
    "same"
   ]
  },
  {
   "cell_type": "code",
   "execution_count": 21,
   "id": "a0620fbc",
   "metadata": {},
   "outputs": [
    {
     "data": {
      "text/plain": [
       "array([10., 11., 12., 13., 14., 15.])"
      ]
     },
     "execution_count": 21,
     "metadata": {},
     "output_type": "execute_result"
    }
   ],
   "source": [
    "d = np.linspace(10,15,6)\n",
    "d"
   ]
  },
  {
   "cell_type": "code",
   "execution_count": 22,
   "id": "286a3be8",
   "metadata": {},
   "outputs": [
    {
     "data": {
      "text/plain": [
       "array([[1, 0, 0],\n",
       "       [0, 1, 0],\n",
       "       [0, 0, 1]])"
      ]
     },
     "execution_count": 22,
     "metadata": {},
     "output_type": "execute_result"
    }
   ],
   "source": [
    "id= np.eye(3,dtype = int)\n",
    "id"
   ]
  },
  {
   "cell_type": "code",
   "execution_count": 34,
   "id": "97acc77f",
   "metadata": {},
   "outputs": [
    {
     "data": {
      "text/plain": [
       "array([[8, 8, 2],\n",
       "       [2, 8, 8],\n",
       "       [8, 8, 3]])"
      ]
     },
     "execution_count": 34,
     "metadata": {},
     "output_type": "execute_result"
    }
   ],
   "source": [
    "a= np.random.randint(1,10,(3,3))\n",
    "a"
   ]
  },
  {
   "cell_type": "code",
   "execution_count": 24,
   "id": "26b3b383",
   "metadata": {},
   "outputs": [
    {
     "data": {
      "text/plain": [
       "array([[8, 7, 3],\n",
       "       [9, 9, 5],\n",
       "       [4, 7, 2]])"
      ]
     },
     "execution_count": 24,
     "metadata": {},
     "output_type": "execute_result"
    }
   ],
   "source": [
    "b= np.random.randint(1,10,(3,3))\n",
    "b"
   ]
  },
  {
   "cell_type": "code",
   "execution_count": 25,
   "id": "73fc72de",
   "metadata": {},
   "outputs": [
    {
     "data": {
      "text/plain": [
       "array([[48, 42, 27],\n",
       "       [63, 63, 40],\n",
       "       [16, 49, 18]])"
      ]
     },
     "execution_count": 25,
     "metadata": {},
     "output_type": "execute_result"
    }
   ],
   "source": [
    "c=a*b\n",
    "c"
   ]
  },
  {
   "cell_type": "code",
   "execution_count": 26,
   "id": "4902fbac",
   "metadata": {},
   "outputs": [
    {
     "data": {
      "text/plain": [
       "array([[36, 36, 81],\n",
       "       [49, 49, 64],\n",
       "       [16, 49, 81]])"
      ]
     },
     "execution_count": 26,
     "metadata": {},
     "output_type": "execute_result"
    }
   ],
   "source": [
    "d = a**2\n",
    "d"
   ]
  },
  {
   "cell_type": "code",
   "execution_count": 27,
   "id": "d6343887",
   "metadata": {},
   "outputs": [
    {
     "data": {
      "text/plain": [
       "array([[-0.2794155 , -0.2794155 ,  0.41211849],\n",
       "       [ 0.6569866 ,  0.6569866 ,  0.98935825],\n",
       "       [-0.7568025 ,  0.6569866 ,  0.41211849]])"
      ]
     },
     "execution_count": 27,
     "metadata": {},
     "output_type": "execute_result"
    }
   ],
   "source": [
    "np.sin(a)"
   ]
  },
  {
   "cell_type": "code",
   "execution_count": 28,
   "id": "577d59b0",
   "metadata": {},
   "outputs": [],
   "source": [
    "a= 22/7"
   ]
  },
  {
   "cell_type": "code",
   "execution_count": 29,
   "id": "4e403216",
   "metadata": {},
   "outputs": [],
   "source": [
    "d= np.arange(a/2,4*a,a/2)"
   ]
  },
  {
   "cell_type": "code",
   "execution_count": 30,
   "id": "114a1a25",
   "metadata": {},
   "outputs": [
    {
     "data": {
      "text/plain": [
       "array([ 0.9999998 , -0.00126449, -0.9999982 ,  0.00252898,  0.999995  ,\n",
       "       -0.00379346, -0.99999021])"
      ]
     },
     "execution_count": 30,
     "metadata": {},
     "output_type": "execute_result"
    }
   ],
   "source": [
    "np.sin(d)"
   ]
  },
  {
   "cell_type": "code",
   "execution_count": 32,
   "id": "730929b4",
   "metadata": {},
   "outputs": [
    {
     "data": {
      "text/plain": [
       "array([[25.14285714, 22.        ,  9.42857143],\n",
       "       [28.28571429, 28.28571429, 15.71428571],\n",
       "       [12.57142857, 22.        ,  6.28571429]])"
      ]
     },
     "execution_count": 32,
     "metadata": {},
     "output_type": "execute_result"
    }
   ],
   "source": [
    "e= np.dot(a,b)\n",
    "e"
   ]
  },
  {
   "cell_type": "code",
   "execution_count": 36,
   "id": "9f782db4",
   "metadata": {},
   "outputs": [
    {
     "data": {
      "text/plain": [
       "47"
      ]
     },
     "execution_count": 36,
     "metadata": {},
     "output_type": "execute_result"
    }
   ],
   "source": [
    "int(np.linalg.det(a))"
   ]
  },
  {
   "cell_type": "code",
   "execution_count": 37,
   "id": "5ccf9ad5",
   "metadata": {},
   "outputs": [
    {
     "data": {
      "text/plain": [
       "array([[-0.83333333, -0.16666667,  1.        ],\n",
       "       [ 1.20833333,  0.16666667, -1.25      ],\n",
       "       [-1.        ,  0.        ,  1.        ]])"
      ]
     },
     "execution_count": 37,
     "metadata": {},
     "output_type": "execute_result"
    }
   ],
   "source": [
    "inverse= np.linalg.inv(a)\n",
    "inverse"
   ]
  },
  {
   "cell_type": "code",
   "execution_count": 38,
   "id": "3aef62a0",
   "metadata": {},
   "outputs": [
    {
     "data": {
      "text/plain": [
       "array([[1., 0., 0.],\n",
       "       [0., 1., 0.],\n",
       "       [0., 0., 1.]])"
      ]
     },
     "execution_count": 38,
     "metadata": {},
     "output_type": "execute_result"
    }
   ],
   "source": [
    "ans= np.dot(a,inverse)\n",
    "ans"
   ]
  },
  {
   "cell_type": "code",
   "execution_count": 39,
   "id": "3211bc2e",
   "metadata": {},
   "outputs": [
    {
     "data": {
      "text/plain": [
       "(array([18.26798424+0.j        ,  0.36600788+1.57910922j,\n",
       "         0.36600788-1.57910922j]),\n",
       " array([[ 0.56275971+0.j        ,  0.52546252+0.15255366j,\n",
       "          0.52546252-0.15255366j],\n",
       "        [ 0.57346361+0.j        , -0.65493607+0.j        ,\n",
       "         -0.65493607-0.j        ],\n",
       "        [ 0.59534948+0.j        ,  0.49360647-0.16741536j,\n",
       "          0.49360647+0.16741536j]]))"
      ]
     },
     "execution_count": 39,
     "metadata": {},
     "output_type": "execute_result"
    }
   ],
   "source": [
    "eigon= np.linalg.eig(a)\n",
    "eigon"
   ]
  },
  {
   "cell_type": "code",
   "execution_count": 44,
   "id": "c62d5d7d",
   "metadata": {},
   "outputs": [
    {
     "data": {
      "text/plain": [
       "array([[8, 8, 2],\n",
       "       [2, 8, 8]])"
      ]
     },
     "execution_count": 44,
     "metadata": {},
     "output_type": "execute_result"
    }
   ],
   "source": [
    "a[0:2]"
   ]
  },
  {
   "cell_type": "code",
   "execution_count": 46,
   "id": "4c739228",
   "metadata": {},
   "outputs": [
    {
     "data": {
      "text/plain": [
       "array([[8, 8],\n",
       "       [2, 8]])"
      ]
     },
     "execution_count": 46,
     "metadata": {},
     "output_type": "execute_result"
    }
   ],
   "source": [
    "a[0:2,0:2]"
   ]
  },
  {
   "cell_type": "code",
   "execution_count": 48,
   "id": "6e7dc2b7",
   "metadata": {},
   "outputs": [
    {
     "data": {
      "text/plain": [
       "array([[8, 8, 2, 8, 7, 3],\n",
       "       [2, 8, 8, 9, 9, 5],\n",
       "       [8, 8, 3, 4, 7, 2]])"
      ]
     },
     "execution_count": 48,
     "metadata": {},
     "output_type": "execute_result"
    }
   ],
   "source": [
    "np.hstack((a,b))"
   ]
  },
  {
   "cell_type": "code",
   "execution_count": 49,
   "id": "64fede2b",
   "metadata": {},
   "outputs": [
    {
     "data": {
      "text/plain": [
       "array([[8, 8, 2],\n",
       "       [2, 8, 8],\n",
       "       [8, 8, 3],\n",
       "       [8, 7, 3],\n",
       "       [9, 9, 5],\n",
       "       [4, 7, 2]])"
      ]
     },
     "execution_count": 49,
     "metadata": {},
     "output_type": "execute_result"
    }
   ],
   "source": [
    "np.vstack((a,b))"
   ]
  },
  {
   "cell_type": "code",
   "execution_count": 50,
   "id": "df62b550",
   "metadata": {},
   "outputs": [
    {
     "data": {
      "text/plain": [
       "[array([[8],\n",
       "        [2],\n",
       "        [8]]),\n",
       " array([[8],\n",
       "        [8],\n",
       "        [8]]),\n",
       " array([[2],\n",
       "        [8],\n",
       "        [3]])]"
      ]
     },
     "execution_count": 50,
     "metadata": {},
     "output_type": "execute_result"
    }
   ],
   "source": [
    "np.hsplit(a,3)"
   ]
  },
  {
   "cell_type": "code",
   "execution_count": 51,
   "id": "c1d7b83f",
   "metadata": {},
   "outputs": [
    {
     "data": {
      "text/plain": [
       "[array([[8, 8, 2]]), array([[2, 8, 8]]), array([[8, 8, 3]])]"
      ]
     },
     "execution_count": 51,
     "metadata": {},
     "output_type": "execute_result"
    }
   ],
   "source": [
    "np.vsplit(a,3)"
   ]
  },
  {
   "cell_type": "code",
   "execution_count": 52,
   "id": "4e768a19",
   "metadata": {},
   "outputs": [
    {
     "data": {
      "text/plain": [
       "array([[2, 8, 8],\n",
       "       [2, 8, 8],\n",
       "       [3, 8, 8]])"
      ]
     },
     "execution_count": 52,
     "metadata": {},
     "output_type": "execute_result"
    }
   ],
   "source": [
    "np.sort(a)"
   ]
  },
  {
   "cell_type": "code",
   "execution_count": 53,
   "id": "4e2f7f45",
   "metadata": {},
   "outputs": [
    {
     "data": {
      "text/plain": [
       "array([[5, 2, 2],\n",
       "       [9, 7, 9],\n",
       "       [7, 5, 1]])"
      ]
     },
     "execution_count": 53,
     "metadata": {},
     "output_type": "execute_result"
    }
   ],
   "source": [
    "a= np.random.randint(1,10,(3,3))\n",
    "a"
   ]
  },
  {
   "cell_type": "code",
   "execution_count": 54,
   "id": "c56c16a6",
   "metadata": {},
   "outputs": [
    {
     "data": {
      "text/plain": [
       "array([[2, 2, 5],\n",
       "       [7, 9, 9],\n",
       "       [1, 5, 7]])"
      ]
     },
     "execution_count": 54,
     "metadata": {},
     "output_type": "execute_result"
    }
   ],
   "source": [
    "np.sort(a)"
   ]
  },
  {
   "cell_type": "code",
   "execution_count": 55,
   "id": "3427717c",
   "metadata": {},
   "outputs": [
    {
     "data": {
      "text/plain": [
       "array([[5, 2, 1],\n",
       "       [7, 5, 2],\n",
       "       [9, 7, 9]])"
      ]
     },
     "execution_count": 55,
     "metadata": {},
     "output_type": "execute_result"
    }
   ],
   "source": [
    "np.sort(a, axis =0)"
   ]
  },
  {
   "cell_type": "code",
   "execution_count": 56,
   "id": "35237cdc",
   "metadata": {},
   "outputs": [
    {
     "data": {
      "text/plain": [
       "array([[2, 2, 5],\n",
       "       [7, 9, 9],\n",
       "       [1, 5, 7]])"
      ]
     },
     "execution_count": 56,
     "metadata": {},
     "output_type": "execute_result"
    }
   ],
   "source": [
    "np.sort(a, axis =1)"
   ]
  },
  {
   "cell_type": "code",
   "execution_count": 57,
   "id": "ef6ce582",
   "metadata": {},
   "outputs": [],
   "source": [
    "import collections"
   ]
  },
  {
   "cell_type": "code",
   "execution_count": 58,
   "id": "b134ff5d",
   "metadata": {},
   "outputs": [],
   "source": [
    "#collections.Counter"
   ]
  },
  {
   "cell_type": "code",
   "execution_count": 59,
   "id": "6835e7e0",
   "metadata": {},
   "outputs": [
    {
     "data": {
      "text/plain": [
       "array([['1', 'Angeli', 'Mapes', 'amapes0@chronoengine.com', 'Male'],\n",
       "       ['2', 'Petronille', 'Helmke', 'phelmke1@walmart.com', 'Female'],\n",
       "       ['3', 'Humfrid', 'Sainsberry', 'hsainsberry2@disqus.com', 'Male'],\n",
       "       ['4', 'Kaja', 'Carnson', 'kcarnson3@amazon.de', 'Female'],\n",
       "       ['5', 'Basia', 'Narraway', 'bnarraway4@bloomberg.com', 'Female'],\n",
       "       ['6', 'Hy', 'Robiot', 'hrobiot5@quantcast.com', 'Male'],\n",
       "       ['7', 'Angelika', 'Pedrocco', 'apedrocco6@quantcast.com',\n",
       "        'Female'],\n",
       "       ['8', 'Brigit', 'Olivie', 'bolivie7@so-net.ne.jp', 'Female'],\n",
       "       ['9', 'Marjorie', 'Coope', 'mcoope8@microsoft.com', 'Female'],\n",
       "       ['10', 'Demetra', 'Gumey', 'dgumey9@gmpg.org', 'Female'],\n",
       "       ['11', 'Geneva', 'Vasentsov', 'gvasentsova@wsj.com', 'Female'],\n",
       "       ['12', 'Llywellyn', 'Bullant', 'lbullantb@sfgate.com', 'Male'],\n",
       "       ['13', 'Ruperta', 'Dudin', 'rdudinc@dailymotion.com', 'Female'],\n",
       "       ['14', 'Page', 'Ferrotti', 'pferrottid@mashable.com', 'Female'],\n",
       "       ['15', 'Fara', 'Mannooch', 'fmannooche@bizjournals.com', 'Female'],\n",
       "       ['16', 'Manon', 'Focke', 'mfockef@oracle.com', 'Female'],\n",
       "       ['17', 'Josh', 'Belle', 'jbelleg@census.gov', 'Male'],\n",
       "       ['18', 'Jarad', 'Bresner', 'jbresnerh@51.la', 'Male'],\n",
       "       ['19', 'Reinaldos', 'Gianuzzi', 'rgianuzzii@slideshare.net',\n",
       "        'Male'],\n",
       "       ['20', 'Carlene', 'Willans', 'cwillansj@ed.gov', 'Female'],\n",
       "       ['21', 'Clayson', 'Jennaway', 'cjennawayk@usatoday.com', 'Male'],\n",
       "       ['22', 'Jed', 'McGilvray', 'jmcgilvrayl@jiathis.com', 'Male'],\n",
       "       ['23', 'Matteo', 'Zannotelli', 'mzannotellim@canalblog.com',\n",
       "        'Male'],\n",
       "       ['24', 'Carrol', 'Antos', 'cantosn@nydailynews.com', 'Male'],\n",
       "       ['25', 'Flinn', 'Broome', 'fbroomeo@tmall.com', 'Male'],\n",
       "       ['26', 'Any', 'Lewcock', 'alewcockp@nih.gov', 'Male'],\n",
       "       ['27', 'Halimeda', 'Drewet', 'hdrewetq@is.gd', 'Female'],\n",
       "       ['28', 'Melissa', 'Saundercock', 'msaundercockr@usnews.com',\n",
       "        'Female'],\n",
       "       ['29', 'Adrea', 'Sute', 'asutes@huffingtonpost.com', 'Female'],\n",
       "       ['30', 'Meaghan', 'Filan', 'mfilant@berkeley.edu', 'Female'],\n",
       "       ['31', 'Baldwin', \"O'Henehan\", 'bohenehanu@blogs.com', 'Male'],\n",
       "       ['32', 'Annabelle', 'McCaughen', 'amccaughenv@answers.com',\n",
       "        'Female'],\n",
       "       ['33', 'Allyn', 'Lias', 'aliasw@aol.com', 'Female'],\n",
       "       ['34', 'Katerina', 'Simounet', 'ksimounetx@shop-pro.jp', 'Female'],\n",
       "       ['35', 'Hedwig', 'Neild', 'hneildy@mashable.com', 'Female'],\n",
       "       ['36', 'Robbie', 'Stockport', 'rstockportz@ucoz.com', 'Male'],\n",
       "       ['37', 'Ofilia', 'Vasyatkin', 'ovasyatkin10@plala.or.jp',\n",
       "        'Female'],\n",
       "       ['38', 'Ashil', 'Daal', 'adaal11@skype.com', 'Female'],\n",
       "       ['39', 'Bradney', 'Erangey', 'berangey12@reverbnation.com',\n",
       "        'Male'],\n",
       "       ['40', 'Bibbye', 'Jarrelt', 'bjarrelt13@about.com', 'Female'],\n",
       "       ['41', 'Luciano', 'Wingatt', 'lwingatt14@ibm.com', 'Male'],\n",
       "       ['42', 'Izabel', 'Batisse', 'ibatisse15@bloglovin.com', 'Female'],\n",
       "       ['43', 'Cullen', 'Gjerde', 'cgjerde16@odnoklassniki.ru', 'Male'],\n",
       "       ['44', 'Hewitt', 'Lante', 'hlante17@ft.com', 'Male'],\n",
       "       ['45', 'Karel', 'Mounter', 'kmounter18@hao123.com', 'Male'],\n",
       "       ['46', 'Gratiana', 'Elletson', 'gelletson19@shareasale.com',\n",
       "        'Female'],\n",
       "       ['47', 'Robin', 'Reford', 'rreford1a@businessweek.com', 'Male'],\n",
       "       ['48', 'Ashlee', 'Rochewell', 'arochewell1b@mysql.com', 'Female'],\n",
       "       ['49', 'Isis', 'Woehler', 'iwoehler1c@paypal.com', 'Female'],\n",
       "       ['50', 'Cori', 'Lancley', 'clancley1d@arstechnica.com', 'Female'],\n",
       "       ['51', 'Alexio', 'Elsley', 'aelsley1e@ucoz.com', 'Male'],\n",
       "       ['52', 'Glenn', 'Paula', 'gpaula1f@patch.com', 'Male'],\n",
       "       ['53', 'Corena', 'Lenthall', 'clenthall1g@ow.ly', 'Female'],\n",
       "       ['54', 'Larina', 'Sallnow', 'lsallnow1h@xing.com', 'Female'],\n",
       "       ['55', 'Filberte', 'Zucker', 'fzucker1i@businessweek.com', 'Male'],\n",
       "       ['56', 'Roxane', 'Smeaton', 'rsmeaton1j@un.org', 'Female'],\n",
       "       ['57', 'Osborne', 'Buxton', 'obuxton1k@auda.org.au', 'Male'],\n",
       "       ['58', 'Kinnie', 'Zahor', 'kzahor1l@infoseek.co.jp', 'Male'],\n",
       "       ['59', 'Bourke', 'Karolewski', 'bkarolewski1m@berkeley.edu',\n",
       "        'Male'],\n",
       "       ['60', 'Oralee', 'Grabbam', 'ograbbam1n@stumbleupon.com',\n",
       "        'Female'],\n",
       "       ['61', 'Lorenza', 'Rikkard', 'lrikkard1o@zimbio.com', 'Female'],\n",
       "       ['62', 'Dasie', 'McRannell', 'dmcrannell1p@ustream.tv', 'Female'],\n",
       "       ['63', 'Cord', 'Stonhard', 'cstonhard1q@vimeo.com', 'Male'],\n",
       "       ['64', 'Dolph', 'Olander', 'dolander1r@theguardian.com', 'Male'],\n",
       "       ['65', 'Haydon', 'Salmoni', 'hsalmoni1s@cnbc.com', 'Male'],\n",
       "       ['66', 'Lauree', 'Cocksedge', 'lcocksedge1t@amazon.co.jp',\n",
       "        'Female'],\n",
       "       ['67', 'Hollyanne', 'Thomton', 'hthomton1u@unc.edu', 'Female'],\n",
       "       ['68', 'Barrie', 'Carillo', 'bcarillo1v@php.net', 'Male'],\n",
       "       ['69', 'Horst', 'Penney', 'hpenney1w@amazon.de', 'Male'],\n",
       "       ['70', 'Reba', 'Andraud', 'randraud1x@bbc.co.uk', 'Female'],\n",
       "       ['71', 'Rick', 'Birrane', 'rbirrane1y@mayoclinic.com', 'Male'],\n",
       "       ['72', 'Nicholas', 'Flinders', 'nflinders1z@washington.edu',\n",
       "        'Male'],\n",
       "       ['73', 'Farand', 'Oxford', 'foxford20@webmd.com', 'Female'],\n",
       "       ['74', 'Oswell', 'Dumper', 'odumper21@quantcast.com', 'Male'],\n",
       "       ['75', 'Flori', 'Ebbin', 'febbin22@oakley.com', 'Female'],\n",
       "       ['76', 'Daisie', 'Thying', 'dthying23@upenn.edu', 'Female'],\n",
       "       ['77', 'Ruben', 'Tichelaar', 'rtichelaar24@msu.edu', 'Male'],\n",
       "       ['78', 'Marylin', 'McCaighey', 'mmccaighey25@tuttocitta.it',\n",
       "        'Female'],\n",
       "       ['79', 'Lina', 'Yokley', 'lyokley26@acquirethisname.com',\n",
       "        'Female'],\n",
       "       ['80', 'Darnell', 'Keele', 'dkeele27@usgs.gov', 'Male'],\n",
       "       ['81', 'Evangelin', 'MacGaughie', 'emacgaughie28@netvibes.com',\n",
       "        'Female'],\n",
       "       ['82', 'Orren', 'Coats', 'ocoats29@dagondesign.com', 'Male'],\n",
       "       ['83', 'Cindi', 'Kearle', 'ckearle2a@wix.com', 'Female'],\n",
       "       ['84', 'Lon', 'Dmitrovic', 'ldmitrovic2b@pinterest.com', 'Male'],\n",
       "       ['85', 'Raviv', 'Dickson', 'rdickson2c@1688.com', 'Male'],\n",
       "       ['86', 'Barnabe', 'Lombard', 'blombard2d@wikispaces.com', 'Male'],\n",
       "       ['87', 'Hedwig', 'Canario', 'hcanario2e@youtu.be', 'Female'],\n",
       "       ['88', 'Leanna', 'Farrance', 'lfarrance2f@oakley.com', 'Female'],\n",
       "       ['89', 'Ashil', 'Saltwell', 'asaltwell2g@goo.gl', 'Female'],\n",
       "       ['90', 'Matthias', 'Matteris', 'mmatteris2h@e-recht24.de', 'Male'],\n",
       "       ['91', 'Gregory', 'Tetsall', 'gtetsall2i@canalblog.com', 'Male'],\n",
       "       ['92', 'Cybil', 'Spadaro', 'cspadaro2j@infoseek.co.jp', 'Female'],\n",
       "       ['93', 'Ariadne', 'Hillaby', 'ahillaby2k@naver.com', 'Female'],\n",
       "       ['94', 'Ree', 'Adamkiewicz', 'radamkiewicz2l@freewebs.com',\n",
       "        'Female'],\n",
       "       ['95', 'Patric', 'Dafydd', 'pdafydd2m@virginia.edu', 'Male'],\n",
       "       ['96', 'Theda', 'Lockton', 'tlockton2n@blogs.com', 'Female'],\n",
       "       ['97', 'Jamesy', 'Fitch', 'jfitch2o@pbs.org', 'Male'],\n",
       "       ['98', 'Briana', 'Maudett', 'bmaudett2p@ibm.com', 'Female'],\n",
       "       ['99', 'Martin', 'Ayrton', 'mayrton2q@alexa.com', 'Male'],\n",
       "       ['100', 'Obediah', 'Dallicoat', 'odallicoat2r@mediafire.com',\n",
       "        'Male']], dtype='<U29')"
      ]
     },
     "execution_count": 59,
     "metadata": {},
     "output_type": "execute_result"
    }
   ],
   "source": [
    "a= np.genfromtxt('data.csv', delimiter=',',dtype =str)\n",
    "a"
   ]
  },
  {
   "cell_type": "code",
   "execution_count": 60,
   "id": "a8e952ff",
   "metadata": {},
   "outputs": [
    {
     "data": {
      "text/plain": [
       "array(['Female', 'Male'], dtype='<U29')"
      ]
     },
     "execution_count": 60,
     "metadata": {},
     "output_type": "execute_result"
    }
   ],
   "source": [
    "np.unique(a[...,4])"
   ]
  },
  {
   "cell_type": "code",
   "execution_count": 61,
   "id": "43c2ff29",
   "metadata": {},
   "outputs": [],
   "source": [
    "import collections"
   ]
  },
  {
   "cell_type": "code",
   "execution_count": 63,
   "id": "19e4b842",
   "metadata": {},
   "outputs": [],
   "source": [
    "a=collections.Counter(a[...,4])"
   ]
  },
  {
   "cell_type": "code",
   "execution_count": 64,
   "id": "6c94e79a",
   "metadata": {},
   "outputs": [
    {
     "data": {
      "text/plain": [
       "Counter({'Male': 47, 'Female': 53})"
      ]
     },
     "execution_count": 64,
     "metadata": {},
     "output_type": "execute_result"
    }
   ],
   "source": [
    "a"
   ]
  },
  {
   "cell_type": "code",
   "execution_count": 65,
   "id": "8e4d496a",
   "metadata": {},
   "outputs": [
    {
     "data": {
      "text/plain": [
       "dict_keys(['Male', 'Female'])"
      ]
     },
     "execution_count": 65,
     "metadata": {},
     "output_type": "execute_result"
    }
   ],
   "source": [
    "a.keys()"
   ]
  },
  {
   "cell_type": "code",
   "execution_count": 66,
   "id": "e7364768",
   "metadata": {},
   "outputs": [
    {
     "data": {
      "text/plain": [
       "dict_values([47, 53])"
      ]
     },
     "execution_count": 66,
     "metadata": {},
     "output_type": "execute_result"
    }
   ],
   "source": [
    "a.values()"
   ]
  },
  {
   "cell_type": "code",
   "execution_count": 1,
   "id": "85f46708",
   "metadata": {},
   "outputs": [],
   "source": [
    "import matplotlib.pyplot as plt"
   ]
  },
  {
   "cell_type": "code",
   "execution_count": 15,
   "id": "969da1a3",
   "metadata": {},
   "outputs": [],
   "source": [
    "x = [i for i in range(5)]\n",
    "y = [i for i in range(5,10)]\n"
   ]
  },
  {
   "cell_type": "code",
   "execution_count": 4,
   "id": "90d4190d",
   "metadata": {},
   "outputs": [
    {
     "data": {
      "image/png": "[encoded data removed]",
      "text/plain": [
       "<Figure size 432x288 with 1 Axes>"
      ]
     },
     "metadata": {
      "needs_background": "light"
     },
     "output_type": "display_data"
    }
   ],
   "source": [
    "plt.plot(x,y)\n",
    "plt.show()"
   ]
  },
  {
   "cell_type": "code",
   "execution_count": 7,
   "id": "e8c15838",
   "metadata": {},
   "outputs": [],
   "source": [
    "import numpy as np"
   ]
  },
  {
   "cell_type": "code",
   "execution_count": 10,
   "id": "23d1efb3",
   "metadata": {},
   "outputs": [],
   "source": [
    "x = np.arange(-10,10.05,0.1)\n",
    "y = x**2\n"
   ]
  },
  {
   "cell_type": "code",
   "execution_count": 11,
   "id": "197aaae2",
   "metadata": {},
   "outputs": [
    {
     "data": {
      "image/png": "[encoded data removed]",
      "text/plain": [
       "<Figure size 432x288 with 1 Axes>"
      ]
     },
     "metadata": {
      "needs_background": "light"
     },
     "output_type": "display_data"
    }
   ],
   "source": [
    "plt.plot(x,y)\n",
    "plt.show()"
   ]
  },
  {
   "cell_type": "code",
   "execution_count": 13,
   "id": "24616355",
   "metadata": {},
   "outputs": [],
   "source": [
    "x = np.arange(-10,10.05,0.1)\n",
    "y = np.sin(x)\n"
   ]
  },
  {
   "cell_type": "code",
   "execution_count": 14,
   "id": "20d5feb6",
   "metadata": {},
   "outputs": [
    {
     "data": {
      "image/png": "[encoded data removed]",
      "text/plain": [
       "<Figure size 432x288 with 1 Axes>"
      ]
     },
     "metadata": {
      "needs_background": "light"
     },
     "output_type": "display_data"
    }
   ],
   "source": [
    "plt.plot(x,y)\n",
    "plt.show()"
   ]
  },
  {
   "cell_type": "code",
   "execution_count": 16,
   "id": "af999c9d",
   "metadata": {},
   "outputs": [
    {
     "data": {
      "image/png": "[encoded data removed]",
      "text/plain": [
       "<Figure size 432x288 with 1 Axes>"
      ]
     },
     "metadata": {
      "needs_background": "light"
     },
     "output_type": "display_data"
    }
   ],
   "source": [
    "plt.bar(x,y)\n",
    "plt.show()"
   ]
  },
  {
   "cell_type": "code",
   "execution_count": 17,
   "id": "103280b8",
   "metadata": {},
   "outputs": [
    {
     "data": {
      "image/png": "[encoded data removed]",
      "text/plain": [
       "<Figure size 432x288 with 1 Axes>"
      ]
     },
     "metadata": {
      "needs_background": "light"
     },
     "output_type": "display_data"
    }
   ],
   "source": [
    "plt.barh(x,y)\n",
    "plt.show()"
   ]
  },
  {
   "cell_type": "code",
   "execution_count": 18,
   "id": "c7bc92a1",
   "metadata": {},
   "outputs": [
    {
     "data": {
      "image/png": "[encoded data removed]",
      "text/plain": [
       "<Figure size 432x288 with 1 Axes>"
      ]
     },
     "metadata": {
      "needs_background": "light"
     },
     "output_type": "display_data"
    }
   ],
   "source": [
    "plt.scatter(x,y)\n",
    "plt.show()"
   ]
  },
  {
   "cell_type": "code",
   "execution_count": 23,
   "id": "8eebf60d",
   "metadata": {},
   "outputs": [
    {
     "data": {
      "image/png": "[encoded data removed]",
      "text/plain": [
       "<Figure size 432x288 with 1 Axes>"
      ]
     },
     "metadata": {},
     "output_type": "display_data"
    }
   ],
   "source": [
    "channel =['abp','x','y','z']\n",
    "share=[450,250,150,50]\n",
    "plt.pie(share, labels= channel,autopct='%1.1f%%',explode = [0,0,0.2,0])\n",
    "plt.show()"
   ]
  },
  {
   "cell_type": "code",
   "execution_count": 1,
   "id": "9bc4b25f",
   "metadata": {},
   "outputs": [],
   "source": [
    "import pandas as pd"
   ]
  },
  {
   "cell_type": "code",
   "execution_count": 2,
   "id": "8584b2ff",
   "metadata": {},
   "outputs": [],
   "source": [
    "import numpy as np"
   ]
  },
  {
   "cell_type": "code",
   "execution_count": 3,
   "id": "b696abfd",
   "metadata": {},
   "outputs": [
    {
     "data": {
      "text/plain": [
       "array([0, 1, 2, 3, 4])"
      ]
     },
     "execution_count": 3,
     "metadata": {},
     "output_type": "execute_result"
    }
   ],
   "source": [
    "a= np.arange(5)\n",
    "a"
   ]
  },
  {
   "cell_type": "code",
   "execution_count": 4,
   "id": "a6cf14d7",
   "metadata": {},
   "outputs": [
    {
     "data": {
      "text/plain": [
       "0    0\n",
       "1    1\n",
       "2    2\n",
       "3    3\n",
       "4    4\n",
       "dtype: int32"
      ]
     },
     "execution_count": 4,
     "metadata": {},
     "output_type": "execute_result"
    }
   ],
   "source": [
    "ser1= pd.Series(a)\n",
    "ser1"
   ]
  },
  {
   "cell_type": "code",
   "execution_count": 6,
   "id": "884b77b6",
   "metadata": {},
   "outputs": [
    {
     "data": {
      "text/plain": [
       "a    3\n",
       "b    5\n",
       "dtype: int64"
      ]
     },
     "execution_count": 6,
     "metadata": {},
     "output_type": "execute_result"
    }
   ],
   "source": [
    "dict= {'a':3,'b':5}\n",
    "ser1= pd.Series(dict)\n",
    "ser1"
   ]
  },
  {
   "cell_type": "code",
   "execution_count": 7,
   "id": "d85b9169",
   "metadata": {},
   "outputs": [],
   "source": [
    "L= [[1,2,3],[3,4,5],[2,5,7]]"
   ]
  },
  {
   "cell_type": "code",
   "execution_count": 8,
   "id": "f9cce326",
   "metadata": {},
   "outputs": [
    {
     "data": {
      "text/html": [
       "<div>\n",
       "<style scoped>\n",
       "    .dataframe tbody tr th:only-of-type {\n",
       "        vertical-align: middle;\n",
       "    }\n",
       "\n",
       "    .dataframe tbody tr th {\n",
       "        vertical-align: top;\n",
       "    }\n",
       "\n",
       "    .dataframe thead th {\n",
       "        text-align: right;\n",
       "    }\n",
       "</style>\n",
       "<table border=\"1\" class=\"dataframe\">\n",
       "  <thead>\n",
       "    <tr style=\"text-align: right;\">\n",
       "      <th></th>\n",
       "      <th>0</th>\n",
       "      <th>1</th>\n",
       "      <th>2</th>\n",
       "    </tr>\n",
       "  </thead>\n",
       "  <tbody>\n",
       "    <tr>\n",
       "      <th>0</th>\n",
       "      <td>1</td>\n",
       "      <td>2</td>\n",
       "      <td>3</td>\n",
       "    </tr>\n",
       "    <tr>\n",
       "      <th>1</th>\n",
       "      <td>3</td>\n",
       "      <td>4</td>\n",
       "      <td>5</td>\n",
       "    </tr>\n",
       "    <tr>\n",
       "      <th>2</th>\n",
       "      <td>2</td>\n",
       "      <td>5</td>\n",
       "      <td>7</td>\n",
       "    </tr>\n",
       "  </tbody>\n",
       "</table>\n",
       "</div>"
      ],
      "text/plain": [
       "   0  1  2\n",
       "0  1  2  3\n",
       "1  3  4  5\n",
       "2  2  5  7"
      ]
     },
     "execution_count": 8,
     "metadata": {},
     "output_type": "execute_result"
    }
   ],
   "source": [
    "df= pd.DataFrame(L)\n",
    "df"
   ]
  },
  {
   "cell_type": "code",
   "execution_count": 9,
   "id": "a172a15e",
   "metadata": {},
   "outputs": [
    {
     "data": {
      "text/plain": [
       "0    1\n",
       "1    3\n",
       "2    2\n",
       "Name: 0, dtype: int64"
      ]
     },
     "execution_count": 9,
     "metadata": {},
     "output_type": "execute_result"
    }
   ],
   "source": [
    "df[0]"
   ]
  },
  {
   "cell_type": "code",
   "execution_count": 10,
   "id": "73b037af",
   "metadata": {},
   "outputs": [
    {
     "data": {
      "text/html": [
       "<div>\n",
       "<style scoped>\n",
       "    .dataframe tbody tr th:only-of-type {\n",
       "        vertical-align: middle;\n",
       "    }\n",
       "\n",
       "    .dataframe tbody tr th {\n",
       "        vertical-align: top;\n",
       "    }\n",
       "\n",
       "    .dataframe thead th {\n",
       "        text-align: right;\n",
       "    }\n",
       "</style>\n",
       "<table border=\"1\" class=\"dataframe\">\n",
       "  <thead>\n",
       "    <tr style=\"text-align: right;\">\n",
       "      <th></th>\n",
       "      <th>0</th>\n",
       "      <th>2</th>\n",
       "    </tr>\n",
       "  </thead>\n",
       "  <tbody>\n",
       "    <tr>\n",
       "      <th>0</th>\n",
       "      <td>1</td>\n",
       "      <td>3</td>\n",
       "    </tr>\n",
       "    <tr>\n",
       "      <th>1</th>\n",
       "      <td>3</td>\n",
       "      <td>5</td>\n",
       "    </tr>\n",
       "    <tr>\n",
       "      <th>2</th>\n",
       "      <td>2</td>\n",
       "      <td>7</td>\n",
       "    </tr>\n",
       "  </tbody>\n",
       "</table>\n",
       "</div>"
      ],
      "text/plain": [
       "   0  2\n",
       "0  1  3\n",
       "1  3  5\n",
       "2  2  7"
      ]
     },
     "execution_count": 10,
     "metadata": {},
     "output_type": "execute_result"
    }
   ],
   "source": [
    "df[[0,2]]"
   ]
  },
  {
   "cell_type": "code",
   "execution_count": 11,
   "id": "a71f76ed",
   "metadata": {},
   "outputs": [
    {
     "data": {
      "text/plain": [
       "0    1\n",
       "1    2\n",
       "2    3\n",
       "Name: 0, dtype: int64"
      ]
     },
     "execution_count": 11,
     "metadata": {},
     "output_type": "execute_result"
    }
   ],
   "source": [
    "df.iloc[0]"
   ]
  },
  {
   "cell_type": "code",
   "execution_count": 12,
   "id": "877f92a1",
   "metadata": {},
   "outputs": [
    {
     "data": {
      "text/html": [
       "<div>\n",
       "<style scoped>\n",
       "    .dataframe tbody tr th:only-of-type {\n",
       "        vertical-align: middle;\n",
       "    }\n",
       "\n",
       "    .dataframe tbody tr th {\n",
       "        vertical-align: top;\n",
       "    }\n",
       "\n",
       "    .dataframe thead th {\n",
       "        text-align: right;\n",
       "    }\n",
       "</style>\n",
       "<table border=\"1\" class=\"dataframe\">\n",
       "  <thead>\n",
       "    <tr style=\"text-align: right;\">\n",
       "      <th></th>\n",
       "      <th>0</th>\n",
       "      <th>1</th>\n",
       "      <th>2</th>\n",
       "    </tr>\n",
       "  </thead>\n",
       "  <tbody>\n",
       "    <tr>\n",
       "      <th>0</th>\n",
       "      <td>1</td>\n",
       "      <td>2</td>\n",
       "      <td>3</td>\n",
       "    </tr>\n",
       "    <tr>\n",
       "      <th>1</th>\n",
       "      <td>3</td>\n",
       "      <td>4</td>\n",
       "      <td>5</td>\n",
       "    </tr>\n",
       "  </tbody>\n",
       "</table>\n",
       "</div>"
      ],
      "text/plain": [
       "   0  1  2\n",
       "0  1  2  3\n",
       "1  3  4  5"
      ]
     },
     "execution_count": 12,
     "metadata": {},
     "output_type": "execute_result"
    }
   ],
   "source": [
    "df.iloc[0:2]"
   ]
  },
  {
   "cell_type": "code",
   "execution_count": 13,
   "id": "cc478081",
   "metadata": {},
   "outputs": [
    {
     "data": {
      "text/html": [
       "<div>\n",
       "<style scoped>\n",
       "    .dataframe tbody tr th:only-of-type {\n",
       "        vertical-align: middle;\n",
       "    }\n",
       "\n",
       "    .dataframe tbody tr th {\n",
       "        vertical-align: top;\n",
       "    }\n",
       "\n",
       "    .dataframe thead th {\n",
       "        text-align: right;\n",
       "    }\n",
       "</style>\n",
       "<table border=\"1\" class=\"dataframe\">\n",
       "  <thead>\n",
       "    <tr style=\"text-align: right;\">\n",
       "      <th></th>\n",
       "      <th>0</th>\n",
       "      <th>1</th>\n",
       "    </tr>\n",
       "  </thead>\n",
       "  <tbody>\n",
       "    <tr>\n",
       "      <th>0</th>\n",
       "      <td>1</td>\n",
       "      <td>2</td>\n",
       "    </tr>\n",
       "    <tr>\n",
       "      <th>1</th>\n",
       "      <td>3</td>\n",
       "      <td>4</td>\n",
       "    </tr>\n",
       "    <tr>\n",
       "      <th>2</th>\n",
       "      <td>2</td>\n",
       "      <td>5</td>\n",
       "    </tr>\n",
       "  </tbody>\n",
       "</table>\n",
       "</div>"
      ],
      "text/plain": [
       "   0  1\n",
       "0  1  2\n",
       "1  3  4\n",
       "2  2  5"
      ]
     },
     "execution_count": 13,
     "metadata": {},
     "output_type": "execute_result"
    }
   ],
   "source": [
    "df.iloc[:,0:2]"
   ]
  },
  {
   "cell_type": "code",
   "execution_count": 14,
   "id": "27b8b181",
   "metadata": {},
   "outputs": [
    {
     "data": {
      "text/html": [
       "<div>\n",
       "<style scoped>\n",
       "    .dataframe tbody tr th:only-of-type {\n",
       "        vertical-align: middle;\n",
       "    }\n",
       "\n",
       "    .dataframe tbody tr th {\n",
       "        vertical-align: top;\n",
       "    }\n",
       "\n",
       "    .dataframe thead th {\n",
       "        text-align: right;\n",
       "    }\n",
       "</style>\n",
       "<table border=\"1\" class=\"dataframe\">\n",
       "  <thead>\n",
       "    <tr style=\"text-align: right;\">\n",
       "      <th></th>\n",
       "      <th>0</th>\n",
       "      <th>1</th>\n",
       "    </tr>\n",
       "  </thead>\n",
       "  <tbody>\n",
       "    <tr>\n",
       "      <th>0</th>\n",
       "      <td>1</td>\n",
       "      <td>2</td>\n",
       "    </tr>\n",
       "    <tr>\n",
       "      <th>1</th>\n",
       "      <td>3</td>\n",
       "      <td>4</td>\n",
       "    </tr>\n",
       "  </tbody>\n",
       "</table>\n",
       "</div>"
      ],
      "text/plain": [
       "   0  1\n",
       "0  1  2\n",
       "1  3  4"
      ]
     },
     "execution_count": 14,
     "metadata": {},
     "output_type": "execute_result"
    }
   ],
   "source": [
    "df.iloc[0:2,0:2]"
   ]
  },
  {
   "cell_type": "code",
   "execution_count": 16,
   "id": "fa3b4219",
   "metadata": {},
   "outputs": [
    {
     "data": {
      "text/html": [
       "<div>\n",
       "<style scoped>\n",
       "    .dataframe tbody tr th:only-of-type {\n",
       "        vertical-align: middle;\n",
       "    }\n",
       "\n",
       "    .dataframe tbody tr th {\n",
       "        vertical-align: top;\n",
       "    }\n",
       "\n",
       "    .dataframe thead th {\n",
       "        text-align: right;\n",
       "    }\n",
       "</style>\n",
       "<table border=\"1\" class=\"dataframe\">\n",
       "  <thead>\n",
       "    <tr style=\"text-align: right;\">\n",
       "      <th></th>\n",
       "      <th>0</th>\n",
       "      <th>2</th>\n",
       "    </tr>\n",
       "  </thead>\n",
       "  <tbody>\n",
       "    <tr>\n",
       "      <th>0</th>\n",
       "      <td>1</td>\n",
       "      <td>3</td>\n",
       "    </tr>\n",
       "    <tr>\n",
       "      <th>1</th>\n",
       "      <td>3</td>\n",
       "      <td>5</td>\n",
       "    </tr>\n",
       "    <tr>\n",
       "      <th>2</th>\n",
       "      <td>2</td>\n",
       "      <td>7</td>\n",
       "    </tr>\n",
       "  </tbody>\n",
       "</table>\n",
       "</div>"
      ],
      "text/plain": [
       "   0  2\n",
       "0  1  3\n",
       "1  3  5\n",
       "2  2  7"
      ]
     },
     "execution_count": 16,
     "metadata": {},
     "output_type": "execute_result"
    }
   ],
   "source": [
    "df.iloc[:,[0,2]]"
   ]
  },
  {
   "cell_type": "code",
   "execution_count": 19,
   "id": "4f217242",
   "metadata": {},
   "outputs": [
    {
     "data": {
      "text/html": [
       "<div>\n",
       "<style scoped>\n",
       "    .dataframe tbody tr th:only-of-type {\n",
       "        vertical-align: middle;\n",
       "    }\n",
       "\n",
       "    .dataframe tbody tr th {\n",
       "        vertical-align: top;\n",
       "    }\n",
       "\n",
       "    .dataframe thead th {\n",
       "        text-align: right;\n",
       "    }\n",
       "</style>\n",
       "<table border=\"1\" class=\"dataframe\">\n",
       "  <thead>\n",
       "    <tr style=\"text-align: right;\">\n",
       "      <th></th>\n",
       "      <th>test1</th>\n",
       "      <th>test2</th>\n",
       "      <th>endsem</th>\n",
       "    </tr>\n",
       "  </thead>\n",
       "  <tbody>\n",
       "    <tr>\n",
       "      <th>roll 1</th>\n",
       "      <td>1</td>\n",
       "      <td>2</td>\n",
       "      <td>3</td>\n",
       "    </tr>\n",
       "    <tr>\n",
       "      <th>roll 2</th>\n",
       "      <td>3</td>\n",
       "      <td>4</td>\n",
       "      <td>5</td>\n",
       "    </tr>\n",
       "    <tr>\n",
       "      <th>roll 3</th>\n",
       "      <td>2</td>\n",
       "      <td>5</td>\n",
       "      <td>7</td>\n",
       "    </tr>\n",
       "  </tbody>\n",
       "</table>\n",
       "</div>"
      ],
      "text/plain": [
       "        test1  test2  endsem\n",
       "roll 1      1      2       3\n",
       "roll 2      3      4       5\n",
       "roll 3      2      5       7"
      ]
     },
     "execution_count": 19,
     "metadata": {},
     "output_type": "execute_result"
    }
   ],
   "source": [
    "df1= pd.DataFrame(L, index = ['roll 1','roll 2','roll 3'], columns=['test1','test2','endsem'])\n",
    "df1"
   ]
  },
  {
   "cell_type": "code",
   "execution_count": 20,
   "id": "cf1f425a",
   "metadata": {},
   "outputs": [
    {
     "data": {
      "text/html": [
       "<div>\n",
       "<style scoped>\n",
       "    .dataframe tbody tr th:only-of-type {\n",
       "        vertical-align: middle;\n",
       "    }\n",
       "\n",
       "    .dataframe tbody tr th {\n",
       "        vertical-align: top;\n",
       "    }\n",
       "\n",
       "    .dataframe thead th {\n",
       "        text-align: right;\n",
       "    }\n",
       "</style>\n",
       "<table border=\"1\" class=\"dataframe\">\n",
       "  <thead>\n",
       "    <tr style=\"text-align: right;\">\n",
       "      <th></th>\n",
       "      <th>test1</th>\n",
       "      <th>test2</th>\n",
       "      <th>endsem</th>\n",
       "      <th>Total</th>\n",
       "    </tr>\n",
       "  </thead>\n",
       "  <tbody>\n",
       "    <tr>\n",
       "      <th>roll 1</th>\n",
       "      <td>1</td>\n",
       "      <td>2</td>\n",
       "      <td>3</td>\n",
       "      <td>6</td>\n",
       "    </tr>\n",
       "    <tr>\n",
       "      <th>roll 2</th>\n",
       "      <td>3</td>\n",
       "      <td>4</td>\n",
       "      <td>5</td>\n",
       "      <td>12</td>\n",
       "    </tr>\n",
       "    <tr>\n",
       "      <th>roll 3</th>\n",
       "      <td>2</td>\n",
       "      <td>5</td>\n",
       "      <td>7</td>\n",
       "      <td>14</td>\n",
       "    </tr>\n",
       "  </tbody>\n",
       "</table>\n",
       "</div>"
      ],
      "text/plain": [
       "        test1  test2  endsem  Total\n",
       "roll 1      1      2       3      6\n",
       "roll 2      3      4       5     12\n",
       "roll 3      2      5       7     14"
      ]
     },
     "execution_count": 20,
     "metadata": {},
     "output_type": "execute_result"
    }
   ],
   "source": [
    "df1['Total']= df1['test1']+df1['test2']+df1['endsem']\n",
    "df1"
   ]
  },
  {
   "cell_type": "code",
   "execution_count": 21,
   "id": "081572f2",
   "metadata": {},
   "outputs": [
    {
     "data": {
      "text/plain": [
       "test1      6\n",
       "test2     11\n",
       "endsem    15\n",
       "Total     32\n",
       "dtype: int64"
      ]
     },
     "execution_count": 21,
     "metadata": {},
     "output_type": "execute_result"
    }
   ],
   "source": [
    "df1.sum()"
   ]
  },
  {
   "cell_type": "code",
   "execution_count": 23,
   "id": "9921ca67",
   "metadata": {},
   "outputs": [
    {
     "data": {
      "text/plain": [
       "test1      2.00\n",
       "test2      3.67\n",
       "endsem     5.00\n",
       "Total     10.67\n",
       "dtype: float64"
      ]
     },
     "execution_count": 23,
     "metadata": {},
     "output_type": "execute_result"
    }
   ],
   "source": [
    "round(df1.mean(),2)"
   ]
  },
  {
   "cell_type": "code",
   "execution_count": 24,
   "id": "58cc5c2d",
   "metadata": {},
   "outputs": [
    {
     "data": {
      "text/plain": [
       "test1      3\n",
       "test2      5\n",
       "endsem     7\n",
       "Total     14\n",
       "dtype: int64"
      ]
     },
     "execution_count": 24,
     "metadata": {},
     "output_type": "execute_result"
    }
   ],
   "source": [
    "df1.max()"
   ]
  },
  {
   "cell_type": "code",
   "execution_count": 25,
   "id": "1838331e",
   "metadata": {},
   "outputs": [
    {
     "data": {
      "text/plain": [
       "test1      2.0\n",
       "test2      4.0\n",
       "endsem     5.0\n",
       "Total     12.0\n",
       "dtype: float64"
      ]
     },
     "execution_count": 25,
     "metadata": {},
     "output_type": "execute_result"
    }
   ],
   "source": [
    "df1.median()"
   ]
  },
  {
   "cell_type": "code",
   "execution_count": 27,
   "id": "204c0086",
   "metadata": {},
   "outputs": [
    {
     "data": {
      "text/html": [
       "<div>\n",
       "<style scoped>\n",
       "    .dataframe tbody tr th:only-of-type {\n",
       "        vertical-align: middle;\n",
       "    }\n",
       "\n",
       "    .dataframe tbody tr th {\n",
       "        vertical-align: top;\n",
       "    }\n",
       "\n",
       "    .dataframe thead th {\n",
       "        text-align: right;\n",
       "    }\n",
       "</style>\n",
       "<table border=\"1\" class=\"dataframe\">\n",
       "  <thead>\n",
       "    <tr style=\"text-align: right;\">\n",
       "      <th></th>\n",
       "      <th>test1</th>\n",
       "      <th>test2</th>\n",
       "      <th>endsem</th>\n",
       "      <th>Total</th>\n",
       "    </tr>\n",
       "  </thead>\n",
       "  <tbody>\n",
       "    <tr>\n",
       "      <th>roll 1</th>\n",
       "      <td>1</td>\n",
       "      <td>2</td>\n",
       "      <td>3</td>\n",
       "      <td>6</td>\n",
       "    </tr>\n",
       "    <tr>\n",
       "      <th>roll 2</th>\n",
       "      <td>4</td>\n",
       "      <td>6</td>\n",
       "      <td>8</td>\n",
       "      <td>18</td>\n",
       "    </tr>\n",
       "    <tr>\n",
       "      <th>roll 3</th>\n",
       "      <td>6</td>\n",
       "      <td>11</td>\n",
       "      <td>15</td>\n",
       "      <td>32</td>\n",
       "    </tr>\n",
       "  </tbody>\n",
       "</table>\n",
       "</div>"
      ],
      "text/plain": [
       "        test1  test2  endsem  Total\n",
       "roll 1      1      2       3      6\n",
       "roll 2      4      6       8     18\n",
       "roll 3      6     11      15     32"
      ]
     },
     "execution_count": 27,
     "metadata": {},
     "output_type": "execute_result"
    }
   ],
   "source": [
    "df1.cumsum()"
   ]
  },
  {
   "cell_type": "code",
   "execution_count": 29,
   "id": "2a20b41b",
   "metadata": {},
   "outputs": [],
   "source": [
    "df1['Cumufreq']= df1['test1'].cumsum()"
   ]
  },
  {
   "cell_type": "code",
   "execution_count": 30,
   "id": "19be9578",
   "metadata": {},
   "outputs": [
    {
     "data": {
      "text/html": [
       "<div>\n",
       "<style scoped>\n",
       "    .dataframe tbody tr th:only-of-type {\n",
       "        vertical-align: middle;\n",
       "    }\n",
       "\n",
       "    .dataframe tbody tr th {\n",
       "        vertical-align: top;\n",
       "    }\n",
       "\n",
       "    .dataframe thead th {\n",
       "        text-align: right;\n",
       "    }\n",
       "</style>\n",
       "<table border=\"1\" class=\"dataframe\">\n",
       "  <thead>\n",
       "    <tr style=\"text-align: right;\">\n",
       "      <th></th>\n",
       "      <th>test1</th>\n",
       "      <th>test2</th>\n",
       "      <th>endsem</th>\n",
       "      <th>Total</th>\n",
       "      <th>Cumufreq</th>\n",
       "    </tr>\n",
       "  </thead>\n",
       "  <tbody>\n",
       "    <tr>\n",
       "      <th>roll 1</th>\n",
       "      <td>1</td>\n",
       "      <td>2</td>\n",
       "      <td>3</td>\n",
       "      <td>6</td>\n",
       "      <td>1</td>\n",
       "    </tr>\n",
       "    <tr>\n",
       "      <th>roll 2</th>\n",
       "      <td>3</td>\n",
       "      <td>4</td>\n",
       "      <td>5</td>\n",
       "      <td>12</td>\n",
       "      <td>4</td>\n",
       "    </tr>\n",
       "    <tr>\n",
       "      <th>roll 3</th>\n",
       "      <td>2</td>\n",
       "      <td>5</td>\n",
       "      <td>7</td>\n",
       "      <td>14</td>\n",
       "      <td>6</td>\n",
       "    </tr>\n",
       "  </tbody>\n",
       "</table>\n",
       "</div>"
      ],
      "text/plain": [
       "        test1  test2  endsem  Total  Cumufreq\n",
       "roll 1      1      2       3      6         1\n",
       "roll 2      3      4       5     12         4\n",
       "roll 3      2      5       7     14         6"
      ]
     },
     "execution_count": 30,
     "metadata": {},
     "output_type": "execute_result"
    }
   ],
   "source": [
    "df1"
   ]
  },
  {
   "cell_type": "code",
   "execution_count": 31,
   "id": "d71cb749",
   "metadata": {},
   "outputs": [
    {
     "data": {
      "text/html": [
       "<div>\n",
       "<style scoped>\n",
       "    .dataframe tbody tr th:only-of-type {\n",
       "        vertical-align: middle;\n",
       "    }\n",
       "\n",
       "    .dataframe tbody tr th {\n",
       "        vertical-align: top;\n",
       "    }\n",
       "\n",
       "    .dataframe thead th {\n",
       "        text-align: right;\n",
       "    }\n",
       "</style>\n",
       "<table border=\"1\" class=\"dataframe\">\n",
       "  <thead>\n",
       "    <tr style=\"text-align: right;\">\n",
       "      <th></th>\n",
       "      <th>test2</th>\n",
       "      <th>endsem</th>\n",
       "      <th>Total</th>\n",
       "      <th>Cumufreq</th>\n",
       "    </tr>\n",
       "  </thead>\n",
       "  <tbody>\n",
       "    <tr>\n",
       "      <th>roll 1</th>\n",
       "      <td>2</td>\n",
       "      <td>3</td>\n",
       "      <td>6</td>\n",
       "      <td>1</td>\n",
       "    </tr>\n",
       "    <tr>\n",
       "      <th>roll 2</th>\n",
       "      <td>4</td>\n",
       "      <td>5</td>\n",
       "      <td>12</td>\n",
       "      <td>4</td>\n",
       "    </tr>\n",
       "    <tr>\n",
       "      <th>roll 3</th>\n",
       "      <td>5</td>\n",
       "      <td>7</td>\n",
       "      <td>14</td>\n",
       "      <td>6</td>\n",
       "    </tr>\n",
       "  </tbody>\n",
       "</table>\n",
       "</div>"
      ],
      "text/plain": [
       "        test2  endsem  Total  Cumufreq\n",
       "roll 1      2       3      6         1\n",
       "roll 2      4       5     12         4\n",
       "roll 3      5       7     14         6"
      ]
     },
     "execution_count": 31,
     "metadata": {},
     "output_type": "execute_result"
    }
   ],
   "source": [
    "del(df1['test1'])\n",
    "df1"
   ]
  },
  {
   "cell_type": "code",
   "execution_count": 34,
   "id": "abeadc05",
   "metadata": {},
   "outputs": [
    {
     "ename": "AttributeError",
     "evalue": "__delitem__",
     "output_type": "error",
     "traceback": [
      "\u001b[1;31m---------------------------------------------------------------------------\u001b[0m",
      "\u001b[1;31mAttributeError\u001b[0m                            Traceback (most recent call last)",
      "\u001b[1;32m<ipython-input-34-d07fa18f170e>\u001b[0m in \u001b[0;36m<module>\u001b[1;34m\u001b[0m\n\u001b[1;32m----> 1\u001b[1;33m \u001b[1;32mdel\u001b[0m\u001b[1;33m(\u001b[0m\u001b[0mdf1\u001b[0m\u001b[1;33m.\u001b[0m\u001b[0mloc\u001b[0m\u001b[1;33m[\u001b[0m\u001b[1;34m'roll1'\u001b[0m\u001b[1;33m]\u001b[0m\u001b[1;33m)\u001b[0m\u001b[1;33m\u001b[0m\u001b[1;33m\u001b[0m\u001b[0m\n\u001b[0m\u001b[0;32m      2\u001b[0m \u001b[0mdf1\u001b[0m\u001b[1;33m\u001b[0m\u001b[1;33m\u001b[0m\u001b[0m\n",
      "\u001b[1;31mAttributeError\u001b[0m: __delitem__"
     ]
    }
   ],
   "source": [
    "del(df1.loc['roll 1'])\n",
    "df1"
   ]
  },
  {
   "cell_type": "code",
   "execution_count": 35,
   "id": "742bf21a",
   "metadata": {},
   "outputs": [
    {
     "data": {
      "text/html": [
       "<div>\n",
       "<style scoped>\n",
       "    .dataframe tbody tr th:only-of-type {\n",
       "        vertical-align: middle;\n",
       "    }\n",
       "\n",
       "    .dataframe tbody tr th {\n",
       "        vertical-align: top;\n",
       "    }\n",
       "\n",
       "    .dataframe thead th {\n",
       "        text-align: right;\n",
       "    }\n",
       "</style>\n",
       "<table border=\"1\" class=\"dataframe\">\n",
       "  <thead>\n",
       "    <tr style=\"text-align: right;\">\n",
       "      <th></th>\n",
       "      <th>test2</th>\n",
       "      <th>endsem</th>\n",
       "      <th>Total</th>\n",
       "      <th>Cumufreq</th>\n",
       "    </tr>\n",
       "  </thead>\n",
       "  <tbody>\n",
       "    <tr>\n",
       "      <th>roll 2</th>\n",
       "      <td>4</td>\n",
       "      <td>5</td>\n",
       "      <td>12</td>\n",
       "      <td>4</td>\n",
       "    </tr>\n",
       "    <tr>\n",
       "      <th>roll 3</th>\n",
       "      <td>5</td>\n",
       "      <td>7</td>\n",
       "      <td>14</td>\n",
       "      <td>6</td>\n",
       "    </tr>\n",
       "  </tbody>\n",
       "</table>\n",
       "</div>"
      ],
      "text/plain": [
       "        test2  endsem  Total  Cumufreq\n",
       "roll 2      4       5     12         4\n",
       "roll 3      5       7     14         6"
      ]
     },
     "execution_count": 35,
     "metadata": {},
     "output_type": "execute_result"
    }
   ],
   "source": [
    "df1= df1.iloc[1:]\n",
    "df1"
   ]
  },
  {
   "cell_type": "code",
   "execution_count": 36,
   "id": "ba12b71e",
   "metadata": {},
   "outputs": [
    {
     "data": {
      "text/html": [
       "<div>\n",
       "<style scoped>\n",
       "    .dataframe tbody tr th:only-of-type {\n",
       "        vertical-align: middle;\n",
       "    }\n",
       "\n",
       "    .dataframe tbody tr th {\n",
       "        vertical-align: top;\n",
       "    }\n",
       "\n",
       "    .dataframe thead th {\n",
       "        text-align: right;\n",
       "    }\n",
       "</style>\n",
       "<table border=\"1\" class=\"dataframe\">\n",
       "  <thead>\n",
       "    <tr style=\"text-align: right;\">\n",
       "      <th></th>\n",
       "      <th>a</th>\n",
       "      <th>b</th>\n",
       "    </tr>\n",
       "  </thead>\n",
       "  <tbody>\n",
       "    <tr>\n",
       "      <th>0</th>\n",
       "      <td>3</td>\n",
       "      <td>5</td>\n",
       "    </tr>\n",
       "    <tr>\n",
       "      <th>1</th>\n",
       "      <td>4</td>\n",
       "      <td>8</td>\n",
       "    </tr>\n",
       "    <tr>\n",
       "      <th>2</th>\n",
       "      <td>5</td>\n",
       "      <td>9</td>\n",
       "    </tr>\n",
       "  </tbody>\n",
       "</table>\n",
       "</div>"
      ],
      "text/plain": [
       "   a  b\n",
       "0  3  5\n",
       "1  4  8\n",
       "2  5  9"
      ]
     },
     "execution_count": 36,
     "metadata": {},
     "output_type": "execute_result"
    }
   ],
   "source": [
    "dict= {'a':[3,4,5],'b':[5,8,9]}\n",
    "ser1= pd.DataFrame(dict)\n",
    "ser1"
   ]
  },
  {
   "cell_type": "code",
   "execution_count": 37,
   "id": "d91892bd",
   "metadata": {},
   "outputs": [
    {
     "data": {
      "text/plain": [
       "0      Ajay\n",
       "1    rajesh\n",
       "2     Anish\n",
       "dtype: object"
      ]
     },
     "execution_count": 37,
     "metadata": {},
     "output_type": "execute_result"
    }
   ],
   "source": [
    "s = pd.Series(['Ajay','rajesh','Anish'])\n",
    "s"
   ]
  },
  {
   "cell_type": "code",
   "execution_count": 38,
   "id": "7f92c379",
   "metadata": {},
   "outputs": [
    {
     "data": {
      "text/plain": [
       "0      AJAY\n",
       "1    RAJESH\n",
       "2     ANISH\n",
       "dtype: object"
      ]
     },
     "execution_count": 38,
     "metadata": {},
     "output_type": "execute_result"
    }
   ],
   "source": [
    "s.str.upper()"
   ]
  },
  {
   "cell_type": "code",
   "execution_count": 39,
   "id": "b78d1de1",
   "metadata": {},
   "outputs": [
    {
     "data": {
      "text/plain": [
       "0      ajay\n",
       "1    rajesh\n",
       "2     anish\n",
       "dtype: object"
      ]
     },
     "execution_count": 39,
     "metadata": {},
     "output_type": "execute_result"
    }
   ],
   "source": [
    "s.str.lower()"
   ]
  },
  {
   "cell_type": "code",
   "execution_count": 40,
   "id": "1f8eefd7",
   "metadata": {},
   "outputs": [
    {
     "data": {
      "text/plain": [
       "0      aJAY\n",
       "1    RAJESH\n",
       "2     aNISH\n",
       "dtype: object"
      ]
     },
     "execution_count": 40,
     "metadata": {},
     "output_type": "execute_result"
    }
   ],
   "source": [
    "s.str.swapcase()"
   ]
  },
  {
   "cell_type": "code",
   "execution_count": 41,
   "id": "96e1ffac",
   "metadata": {},
   "outputs": [
    {
     "data": {
      "text/plain": [
       "0    False\n",
       "1    False\n",
       "2    False\n",
       "dtype: bool"
      ]
     },
     "execution_count": 41,
     "metadata": {},
     "output_type": "execute_result"
    }
   ],
   "source": [
    "s.str.isupper()"
   ]
  },
  {
   "cell_type": "code",
   "execution_count": 42,
   "id": "05ad89f5",
   "metadata": {},
   "outputs": [
    {
     "data": {
      "text/plain": [
       "0    False\n",
       "1     True\n",
       "2    False\n",
       "dtype: bool"
      ]
     },
     "execution_count": 42,
     "metadata": {},
     "output_type": "execute_result"
    }
   ],
   "source": [
    "s.str.islower()"
   ]
  },
  {
   "cell_type": "code",
   "execution_count": 43,
   "id": "9446d0cf",
   "metadata": {},
   "outputs": [
    {
     "data": {
      "text/plain": [
       "0      Aj@y\n",
       "1    r@jesh\n",
       "2     Anish\n",
       "dtype: object"
      ]
     },
     "execution_count": 43,
     "metadata": {},
     "output_type": "execute_result"
    }
   ],
   "source": [
    "s.str.replace('a','@')"
   ]
  },
  {
   "cell_type": "code",
   "execution_count": 44,
   "id": "baf02c0a",
   "metadata": {},
   "outputs": [
    {
     "data": {
      "text/plain": [
       "0    1\n",
       "1    1\n",
       "2    0\n",
       "dtype: int64"
      ]
     },
     "execution_count": 44,
     "metadata": {},
     "output_type": "execute_result"
    }
   ],
   "source": [
    "s.str.count('a')"
   ]
  },
  {
   "cell_type": "code",
   "execution_count": 45,
   "id": "50a656e3",
   "metadata": {},
   "outputs": [
    {
     "data": {
      "text/plain": [
       "0    4\n",
       "1    6\n",
       "2    5\n",
       "dtype: int64"
      ]
     },
     "execution_count": 45,
     "metadata": {},
     "output_type": "execute_result"
    }
   ],
   "source": [
    "s.str.len()"
   ]
  },
  {
   "cell_type": "code",
   "execution_count": null,
   "id": "85b961e8",
   "metadata": {},
   "outputs": [],
   "source": []
  }
 ],
 "metadata": {
  "kernelspec": {
   "display_name": "Python 3",
   "language": "python",
   "name": "python3"
  },
  "language_info": {
   "codemirror_mode": {
    "name": "ipython",
    "version": 3
   },
   "file_extension": ".py",
   "mimetype": "text/x-python",
   "name": "python",
   "nbconvert_exporter": "python",
   "pygments_lexer": "ipython3",
   "version": "3.8.10"
  }
 },
 "nbformat": 4,
 "nbformat_minor": 5
}

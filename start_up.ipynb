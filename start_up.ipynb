{
  "cells": [
    {
      "cell_type": "markdown",
      "metadata": {
        "id": "view-in-github",
        "colab_type": "text"
      },
      "source": [
        "<a href=\"https://colab.research.google.com/github/nkr9/Data-Analyst/blob/main/start_up.ipynb\" target=\"_parent\"><img src=\"https://colab.research.google.com/assets/colab-badge.svg\" alt=\"Open In Colab\"/></a>"
      ]
    },
    {
      "cell_type": "code",
      "execution_count": null,
      "id": "2d956f74-a3a5-484f-aad5-a97262054a0a",
      "metadata": {
        "id": "2d956f74-a3a5-484f-aad5-a97262054a0a"
      },
      "outputs": [],
      "source": [
        "import numpy as np\n",
        "import pandas as pd\n",
        "import statsmodels.api as sm\n",
        "import matplotlib.pyplot as plt\n",
        "import seaborn as sns"
      ]
    },
    {
      "cell_type": "code",
      "execution_count": null,
      "id": "5f35fa04-3d82-4dc3-b1c3-66f074a831f7",
      "metadata": {
        "id": "5f35fa04-3d82-4dc3-b1c3-66f074a831f7"
      },
      "outputs": [],
      "source": [
        "start_up = pd.read_csv(\"50_Startups.csv\")"
      ]
    },
    {
      "cell_type": "code",
      "execution_count": null,
      "id": "d5478eb5-5f61-4747-99e9-c199b17dd799",
      "metadata": {
        "id": "d5478eb5-5f61-4747-99e9-c199b17dd799",
        "outputId": "4ee1d2b2-e459-40f1-96ef-f0fcd59dd8bf"
      },
      "outputs": [
        {
          "data": {
            "text/html": [
              "<div>\n",
              "<style scoped>\n",
              "    .dataframe tbody tr th:only-of-type {\n",
              "        vertical-align: middle;\n",
              "    }\n",
              "\n",
              "    .dataframe tbody tr th {\n",
              "        vertical-align: top;\n",
              "    }\n",
              "\n",
              "    .dataframe thead th {\n",
              "        text-align: right;\n",
              "    }\n",
              "</style>\n",
              "<table border=\"1\" class=\"dataframe\">\n",
              "  <thead>\n",
              "    <tr style=\"text-align: right;\">\n",
              "      <th></th>\n",
              "      <th>R&amp;D Spend</th>\n",
              "      <th>Administration</th>\n",
              "      <th>Marketing Spend</th>\n",
              "      <th>State</th>\n",
              "      <th>Profit</th>\n",
              "    </tr>\n",
              "  </thead>\n",
              "  <tbody>\n",
              "    <tr>\n",
              "      <th>0</th>\n",
              "      <td>165349.20</td>\n",
              "      <td>136897.80</td>\n",
              "      <td>471784.10</td>\n",
              "      <td>New York</td>\n",
              "      <td>192261.83</td>\n",
              "    </tr>\n",
              "    <tr>\n",
              "      <th>1</th>\n",
              "      <td>162597.70</td>\n",
              "      <td>151377.59</td>\n",
              "      <td>443898.53</td>\n",
              "      <td>California</td>\n",
              "      <td>191792.06</td>\n",
              "    </tr>\n",
              "    <tr>\n",
              "      <th>2</th>\n",
              "      <td>153441.51</td>\n",
              "      <td>101145.55</td>\n",
              "      <td>407934.54</td>\n",
              "      <td>Florida</td>\n",
              "      <td>191050.39</td>\n",
              "    </tr>\n",
              "    <tr>\n",
              "      <th>3</th>\n",
              "      <td>144372.41</td>\n",
              "      <td>118671.85</td>\n",
              "      <td>383199.62</td>\n",
              "      <td>New York</td>\n",
              "      <td>182901.99</td>\n",
              "    </tr>\n",
              "    <tr>\n",
              "      <th>4</th>\n",
              "      <td>142107.34</td>\n",
              "      <td>91391.77</td>\n",
              "      <td>366168.42</td>\n",
              "      <td>Florida</td>\n",
              "      <td>166187.94</td>\n",
              "    </tr>\n",
              "  </tbody>\n",
              "</table>\n",
              "</div>"
            ],
            "text/plain": [
              "   R&D Spend  Administration  Marketing Spend       State     Profit\n",
              "0  165349.20       136897.80        471784.10    New York  192261.83\n",
              "1  162597.70       151377.59        443898.53  California  191792.06\n",
              "2  153441.51       101145.55        407934.54     Florida  191050.39\n",
              "3  144372.41       118671.85        383199.62    New York  182901.99\n",
              "4  142107.34        91391.77        366168.42     Florida  166187.94"
            ]
          },
          "execution_count": 3,
          "metadata": {},
          "output_type": "execute_result"
        }
      ],
      "source": [
        "start_up.head()"
      ]
    },
    {
      "cell_type": "code",
      "execution_count": null,
      "id": "122bfa4c-c403-4735-ab44-b8dee7603607",
      "metadata": {
        "id": "122bfa4c-c403-4735-ab44-b8dee7603607",
        "outputId": "690c8b13-1f1d-4b38-a21e-99f13efb6579"
      },
      "outputs": [
        {
          "name": "stdout",
          "output_type": "stream",
          "text": [
            "<class 'pandas.core.frame.DataFrame'>\n",
            "RangeIndex: 50 entries, 0 to 49\n",
            "Data columns (total 5 columns):\n",
            " #   Column           Non-Null Count  Dtype  \n",
            "---  ------           --------------  -----  \n",
            " 0   R&D Spend        50 non-null     float64\n",
            " 1   Administration   50 non-null     float64\n",
            " 2   Marketing Spend  50 non-null     float64\n",
            " 3   State            50 non-null     object \n",
            " 4   Profit           50 non-null     float64\n",
            "dtypes: float64(4), object(1)\n",
            "memory usage: 2.1+ KB\n"
          ]
        }
      ],
      "source": [
        "start_up.info()"
      ]
    },
    {
      "cell_type": "code",
      "execution_count": null,
      "id": "22786bd8-d681-4276-a791-42e1c8a27ce4",
      "metadata": {
        "id": "22786bd8-d681-4276-a791-42e1c8a27ce4",
        "outputId": "4f65e67d-2233-46ef-8660-480de8bf291d"
      },
      "outputs": [
        {
          "data": {
            "text/plain": [
              "array(['New York', 'California', 'Florida'], dtype=object)"
            ]
          },
          "execution_count": 5,
          "metadata": {},
          "output_type": "execute_result"
        }
      ],
      "source": [
        "start_up.State.unique()"
      ]
    },
    {
      "cell_type": "code",
      "execution_count": null,
      "id": "cd35fb95-4ddb-4ac0-bc6e-8e0c6d28c845",
      "metadata": {
        "id": "cd35fb95-4ddb-4ac0-bc6e-8e0c6d28c845"
      },
      "outputs": [],
      "source": [
        "X_features = ['R&D Spend','Administration','Marketing Spend','State']"
      ]
    },
    {
      "cell_type": "code",
      "execution_count": null,
      "id": "756b5746-f3d2-4835-af28-86ea4eadd22d",
      "metadata": {
        "id": "756b5746-f3d2-4835-af28-86ea4eadd22d"
      },
      "outputs": [],
      "source": [
        "start_up_encoded = pd.get_dummies(start_up[X_features],columns=['State'],dtype = 'int', drop_first = True)"
      ]
    },
    {
      "cell_type": "code",
      "execution_count": null,
      "id": "85762a7b-fed4-4a56-a93e-817fec7a51d3",
      "metadata": {
        "id": "85762a7b-fed4-4a56-a93e-817fec7a51d3",
        "outputId": "e50c1a9c-e0c9-4c87-9906-b183142efe5e"
      },
      "outputs": [
        {
          "data": {
            "text/plain": [
              "Index(['R&D Spend', 'Administration', 'Marketing Spend', 'State_Florida',\n",
              "       'State_New York'],\n",
              "      dtype='object')"
            ]
          },
          "execution_count": 8,
          "metadata": {},
          "output_type": "execute_result"
        }
      ],
      "source": [
        "start_up_encoded.columns"
      ]
    },
    {
      "cell_type": "code",
      "execution_count": null,
      "id": "6c4e0144-431d-48b1-8670-c1418048a971",
      "metadata": {
        "id": "6c4e0144-431d-48b1-8670-c1418048a971"
      },
      "outputs": [],
      "source": [
        "X_features = start_up_encoded.columns"
      ]
    },
    {
      "cell_type": "code",
      "execution_count": null,
      "id": "4e9aa872-7691-4d4e-9b08-f62be74aa22c",
      "metadata": {
        "id": "4e9aa872-7691-4d4e-9b08-f62be74aa22c"
      },
      "outputs": [],
      "source": [
        "from sklearn.model_selection import train_test_split\n",
        "\n",
        "X = sm.add_constant(start_up_encoded)\n",
        "y = start_up['Profit']\n",
        "\n",
        "train_X, test_X, train_y, test_y = train_test_split(X, y, train_size = 0.8, random_state = 42)"
      ]
    },
    {
      "cell_type": "code",
      "execution_count": null,
      "id": "0b98bcf2-d6cc-4caf-93ef-d61cab6f71fb",
      "metadata": {
        "id": "0b98bcf2-d6cc-4caf-93ef-d61cab6f71fb",
        "outputId": "3c5977de-d252-44ee-dc2a-92c3824b0f43"
      },
      "outputs": [
        {
          "data": {
            "text/html": [
              "<table class=\"simpletable\">\n",
              "<tr>\n",
              "        <td>Model:</td>               <td>OLS</td>         <td>Adj. R-squared:</td>      <td>0.947</td>  \n",
              "</tr>\n",
              "<tr>\n",
              "  <td>Dependent Variable:</td>      <td>Profit</td>             <td>AIC:</td>          <td>853.2663</td> \n",
              "</tr>\n",
              "<tr>\n",
              "         <td>Date:</td>        <td>2025-04-27 10:18</td>        <td>BIC:</td>          <td>863.3996</td> \n",
              "</tr>\n",
              "<tr>\n",
              "   <td>No. Observations:</td>         <td>40</td>          <td>Log-Likelihood:</td>     <td>-420.63</td> \n",
              "</tr>\n",
              "<tr>\n",
              "       <td>Df Model:</td>              <td>5</td>           <td>F-statistic:</td>        <td>140.1</td>  \n",
              "</tr>\n",
              "<tr>\n",
              "     <td>Df Residuals:</td>           <td>34</td>        <td>Prob (F-statistic):</td>  <td>1.13e-21</td> \n",
              "</tr>\n",
              "<tr>\n",
              "      <td>R-squared:</td>            <td>0.954</td>            <td>Scale:</td>        <td>9.3765e+07</td>\n",
              "</tr>\n",
              "</table>\n",
              "<table class=\"simpletable\">\n",
              "<tr>\n",
              "         <td></td>            <th>Coef.</th>   <th>Std.Err.</th>     <th>t</th>     <th>P>|t|</th>   <th>[0.025</th>     <th>0.975]</th>  \n",
              "</tr>\n",
              "<tr>\n",
              "  <th>const</th>           <td>54028.0396</td> <td>8457.2933</td> <td>6.3883</td>  <td>0.0000</td> <td>36840.7518</td> <td>71215.3274</td>\n",
              "</tr>\n",
              "<tr>\n",
              "  <th>R&D Spend</th>         <td>0.8056</td>    <td>0.0524</td>   <td>15.3831</td> <td>0.0000</td>   <td>0.6992</td>     <td>0.9121</td>  \n",
              "</tr>\n",
              "<tr>\n",
              "  <th>Administration</th>    <td>-0.0688</td>   <td>0.0607</td>   <td>-1.1325</td> <td>0.2653</td>   <td>-0.1922</td>    <td>0.0546</td>  \n",
              "</tr>\n",
              "<tr>\n",
              "  <th>Marketing Spend</th>   <td>0.0299</td>    <td>0.0222</td>   <td>1.3462</td>  <td>0.1871</td>   <td>-0.0152</td>    <td>0.0749</td>  \n",
              "</tr>\n",
              "<tr>\n",
              "  <th>State_Florida</th>    <td>938.7930</td>  <td>3893.5109</td> <td>0.2411</td>  <td>0.8109</td> <td>-6973.7731</td>  <td>8851.3591</td>\n",
              "</tr>\n",
              "<tr>\n",
              "  <th>State_New York</th>    <td>6.9878</td>   <td>3882.7649</td> <td>0.0018</td>  <td>0.9986</td> <td>-7883.7398</td>  <td>7897.7154</td>\n",
              "</tr>\n",
              "</table>\n",
              "<table class=\"simpletable\">\n",
              "<tr>\n",
              "     <td>Omnibus:</td>    <td>15.391</td>  <td>Durbin-Watson:</td>    <td>1.751</td> \n",
              "</tr>\n",
              "<tr>\n",
              "  <td>Prob(Omnibus):</td>  <td>0.000</td> <td>Jarque-Bera (JB):</td> <td>20.231</td> \n",
              "</tr>\n",
              "<tr>\n",
              "       <td>Skew:</td>     <td>-1.142</td>     <td>Prob(JB):</td>      <td>0.000</td> \n",
              "</tr>\n",
              "<tr>\n",
              "     <td>Kurtosis:</td>    <td>5.631</td>  <td>Condition No.:</td>   <td>1644518</td>\n",
              "</tr>\n",
              "</table><br/>\n",
              "Notes:<br/>\n",
              "[1] Standard Errors assume that the covariance matrix of the errors is correctly specified.<br/>\n",
              "[2] The condition number is large, 1.64e+06. This might indicate                that there are strong multicollinearity or other numerical                problems."
            ],
            "text/latex": [
              "\\begin{table}\n",
              "\\caption{Results: Ordinary least squares}\n",
              "\\label{}\n",
              "\\begin{center}\n",
              "\\begin{tabular}{llll}\n",
              "\\hline\n",
              "Model:              & OLS              & Adj. R-squared:     & 0.947       \\\\\n",
              "Dependent Variable: & Profit           & AIC:                & 853.2663    \\\\\n",
              "Date:               & 2025-04-27 10:18 & BIC:                & 863.3996    \\\\\n",
              "No. Observations:   & 40               & Log-Likelihood:     & -420.63     \\\\\n",
              "Df Model:           & 5                & F-statistic:        & 140.1       \\\\\n",
              "Df Residuals:       & 34               & Prob (F-statistic): & 1.13e-21    \\\\\n",
              "R-squared:          & 0.954            & Scale:              & 9.3765e+07  \\\\\n",
              "\\hline\n",
              "\\end{tabular}\n",
              "\\end{center}\n",
              "\n",
              "\\begin{center}\n",
              "\\begin{tabular}{lrrrrrr}\n",
              "\\hline\n",
              "                &      Coef. &  Std.Err. &       t & P$> |$t$|$ &     [0.025 &     0.975]  \\\\\n",
              "\\hline\n",
              "const           & 54028.0396 & 8457.2933 &  6.3883 &      0.0000 & 36840.7518 & 71215.3274  \\\\\n",
              "R\\&D Spend      &     0.8056 &    0.0524 & 15.3831 &      0.0000 &     0.6992 &     0.9121  \\\\\n",
              "Administration  &    -0.0688 &    0.0607 & -1.1325 &      0.2653 &    -0.1922 &     0.0546  \\\\\n",
              "Marketing Spend &     0.0299 &    0.0222 &  1.3462 &      0.1871 &    -0.0152 &     0.0749  \\\\\n",
              "State\\_Florida  &   938.7930 & 3893.5109 &  0.2411 &      0.8109 & -6973.7731 &  8851.3591  \\\\\n",
              "State\\_New York &     6.9878 & 3882.7649 &  0.0018 &      0.9986 & -7883.7398 &  7897.7154  \\\\\n",
              "\\hline\n",
              "\\end{tabular}\n",
              "\\end{center}\n",
              "\n",
              "\\begin{center}\n",
              "\\begin{tabular}{llll}\n",
              "\\hline\n",
              "Omnibus:       & 15.391 & Durbin-Watson:    & 1.751    \\\\\n",
              "Prob(Omnibus): & 0.000  & Jarque-Bera (JB): & 20.231   \\\\\n",
              "Skew:          & -1.142 & Prob(JB):         & 0.000    \\\\\n",
              "Kurtosis:      & 5.631  & Condition No.:    & 1644518  \\\\\n",
              "\\hline\n",
              "\\end{tabular}\n",
              "\\end{center}\n",
              "\\end{table}\n",
              "\\bigskip\n",
              "Notes: \\newline \n",
              "[1] Standard Errors assume that the covariance matrix of the errors is correctly specified. \\newline \n",
              "[2] The condition number is large, 1.64e+06. This might indicate                that there are strong multicollinearity or other numerical                problems."
            ],
            "text/plain": [
              "<class 'statsmodels.iolib.summary2.Summary'>\n",
              "\"\"\"\n",
              "                     Results: Ordinary least squares\n",
              "=========================================================================\n",
              "Model:                OLS                Adj. R-squared:       0.947     \n",
              "Dependent Variable:   Profit             AIC:                  853.2663  \n",
              "Date:                 2025-04-27 10:18   BIC:                  863.3996  \n",
              "No. Observations:     40                 Log-Likelihood:       -420.63   \n",
              "Df Model:             5                  F-statistic:          140.1     \n",
              "Df Residuals:         34                 Prob (F-statistic):   1.13e-21  \n",
              "R-squared:            0.954              Scale:                9.3765e+07\n",
              "-------------------------------------------------------------------------\n",
              "                  Coef.     Std.Err.    t    P>|t|    [0.025     0.975]  \n",
              "-------------------------------------------------------------------------\n",
              "const           54028.0396 8457.2933  6.3883 0.0000 36840.7518 71215.3274\n",
              "R&D Spend           0.8056    0.0524 15.3831 0.0000     0.6992     0.9121\n",
              "Administration     -0.0688    0.0607 -1.1325 0.2653    -0.1922     0.0546\n",
              "Marketing Spend     0.0299    0.0222  1.3462 0.1871    -0.0152     0.0749\n",
              "State_Florida     938.7930 3893.5109  0.2411 0.8109 -6973.7731  8851.3591\n",
              "State_New York      6.9878 3882.7649  0.0018 0.9986 -7883.7398  7897.7154\n",
              "-------------------------------------------------------------------------\n",
              "Omnibus:                 15.391         Durbin-Watson:            1.751  \n",
              "Prob(Omnibus):           0.000          Jarque-Bera (JB):         20.231 \n",
              "Skew:                    -1.142         Prob(JB):                 0.000  \n",
              "Kurtosis:                5.631          Condition No.:            1644518\n",
              "=========================================================================\n",
              "Notes:\n",
              "[1] Standard Errors assume that the covariance matrix of the errors is\n",
              "correctly specified.\n",
              "[2] The condition number is large, 1.64e+06. This might indicate\n",
              "that there are strong multicollinearity or other numerical\n",
              "problems.\n",
              "\"\"\""
            ]
          },
          "execution_count": 11,
          "metadata": {},
          "output_type": "execute_result"
        }
      ],
      "source": [
        "start_up_model_1 = sm.OLS(train_y, train_X).fit()\n",
        "start_up_model_1.summary2()"
      ]
    },
    {
      "cell_type": "code",
      "execution_count": null,
      "id": "ef87390a-4e2f-4933-a058-b3a2c56b3aaf",
      "metadata": {
        "id": "ef87390a-4e2f-4933-a058-b3a2c56b3aaf",
        "outputId": "adece8b0-7ede-4888-c9ec-75f4da38184c"
      },
      "outputs": [
        {
          "data": {
            "text/plain": [
              "<Figure size 1000x600 with 0 Axes>"
            ]
          },
          "metadata": {},
          "output_type": "display_data"
        },
        {
          "data": {
            "image/png": "[encoded data removed]",
            "text/plain": [
              "<Figure size 640x480 with 1 Axes>"
            ]
          },
          "metadata": {},
          "output_type": "display_data"
        }
      ],
      "source": [
        "import scipy.stats as stats\n",
        "from scipy.stats import norm\n",
        "from sklearn.preprocessing import StandardScaler\n",
        "scaler = StandardScaler()\n",
        "residuals_scaled = scaler.fit_transform(start_up_model_1.resid.values.reshape(-1, 1)).flatten()\n",
        "\n",
        "probplot = sm.ProbPlot(residuals_scaled, dist=norm)\n",
        "plt.figure(figsize=(10, 6))\n",
        "probplot.ppplot(line='45')\n",
        "plt.title('Normal P_P Plot of Standardized Residuals')\n",
        "plt.show()"
      ]
    },
    {
      "cell_type": "code",
      "execution_count": null,
      "id": "ddda8eb8-b0dc-4a9f-b1b2-7cac21be9404",
      "metadata": {
        "id": "ddda8eb8-b0dc-4a9f-b1b2-7cac21be9404"
      },
      "outputs": [],
      "source": [
        "pred_y = start_up_model_1.predict(test_X[train_X.columns])"
      ]
    },
    {
      "cell_type": "code",
      "execution_count": null,
      "id": "09d4ecdc-bff5-4079-bfa2-1d090cf599f4",
      "metadata": {
        "id": "09d4ecdc-bff5-4079-bfa2-1d090cf599f4",
        "outputId": "3899c95d-a769-4bab-b18d-4d6e61c728f5"
      },
      "outputs": [
        {
          "data": {
            "text/plain": [
              "9055.957323204319"
            ]
          },
          "execution_count": 16,
          "metadata": {},
          "output_type": "execute_result"
        }
      ],
      "source": [
        "from sklearn import metrics\n",
        "np.sqrt(metrics.mean_squared_error(pred_y, test_y))"
      ]
    },
    {
      "cell_type": "code",
      "execution_count": null,
      "id": "8f7e264c-1a22-44b5-aabc-aefc3e4bcb35",
      "metadata": {
        "id": "8f7e264c-1a22-44b5-aabc-aefc3e4bcb35",
        "outputId": "43977812-3549-4c2e-c3aa-8a67e74db040"
      },
      "outputs": [
        {
          "data": {
            "text/plain": [
              "0.89"
            ]
          },
          "execution_count": 17,
          "metadata": {},
          "output_type": "execute_result"
        }
      ],
      "source": [
        "np.round( metrics.r2_score(pred_y, test_y), 2 )"
      ]
    },
    {
      "cell_type": "code",
      "execution_count": null,
      "id": "ec74e19d-090f-4448-b6ff-021e3ba64c16",
      "metadata": {
        "id": "ec74e19d-090f-4448-b6ff-021e3ba64c16",
        "outputId": "e073f1e0-2767-4bec-a1fe-cc8b570cfc00"
      },
      "outputs": [
        {
          "name": "stdin",
          "output_type": "stream",
          "text": [
            "Enter R&D Expenditure:  152458\n",
            "Enter Administrative Expenditure:  124586\n",
            "Enter Marketing Expenditure:  45989\n",
            "Enter State of Origin (California / Florida / New York):  New York\n"
          ]
        },
        {
          "name": "stdout",
          "output_type": "stream",
          "text": [
            "Predicted Profit: $169662.79\n"
          ]
        }
      ],
      "source": [
        "def predict_profit(rnd, admin, marketing, state):\n",
        "    # Prepare a dictionary with all required columns\n",
        "    input_dict = {\n",
        "        'R&D Spend': rnd,\n",
        "        'Administration': admin,\n",
        "        'Marketing Spend': marketing,\n",
        "        'State_Florida': 0,\n",
        "        'State_New York': 0\n",
        "    }\n",
        "\n",
        "    # Handle state input\n",
        "    if state.lower() == 'florida':\n",
        "        input_dict['State_Florida'] = 1\n",
        "    elif state.lower() == 'new york':\n",
        "        input_dict['State_New York'] = 1\n",
        "    # If California, leave both dummies as 0\n",
        "\n",
        "    # Create DataFrame\n",
        "    input_df = pd.DataFrame([input_dict])\n",
        "\n",
        "    # Add constant manually (must match model)\n",
        "    input_df = sm.add_constant(input_df, has_constant='add')\n",
        "\n",
        "    # Ensure column order matches training\n",
        "    input_df = input_df[start_up_model_1.model.exog_names]\n",
        "\n",
        "    # Predict\n",
        "    predicted_profit = start_up_model_1.predict(input_df)[0]\n",
        "    return predicted_profit\n",
        "\n",
        "# Take inputs from user\n",
        "rnd_input = float(input(\"Enter R&D Expenditure: \"))\n",
        "admin_input = float(input(\"Enter Administrative Expenditure: \"))\n",
        "marketing_input = float(input(\"Enter Marketing Expenditure: \"))\n",
        "state_input = input(\"Enter State of Origin (California / Florida / New York): \")\n",
        "\n",
        "# Predict and print the result\n",
        "predicted_profit = predict_profit(rnd_input, admin_input, marketing_input, state_input)\n",
        "print(f\"Predicted Profit: ${predicted_profit:.2f}\")\n"
      ]
    },
    {
      "cell_type": "code",
      "execution_count": null,
      "id": "db2543f7-e989-4eb4-8907-4da0838fa3f2",
      "metadata": {
        "id": "db2543f7-e989-4eb4-8907-4da0838fa3f2"
      },
      "outputs": [],
      "source": []
    }
  ],
  "metadata": {
    "kernelspec": {
      "display_name": "Python 3 (ipykernel)",
      "language": "python",
      "name": "python3"
    },
    "language_info": {
      "codemirror_mode": {
        "name": "ipython",
        "version": 3
      },
      "file_extension": ".py",
      "mimetype": "text/x-python",
      "name": "python",
      "nbconvert_exporter": "python",
      "pygments_lexer": "ipython3",
      "version": "3.12.4"
    },
    "colab": {
      "provenance": [],
      "include_colab_link": true
    }
  },
  "nbformat": 4,
  "nbformat_minor": 5
}